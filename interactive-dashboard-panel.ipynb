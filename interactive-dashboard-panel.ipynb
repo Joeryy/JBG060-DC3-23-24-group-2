{
 "cells": [
  {
   "cell_type": "code",
   "execution_count": null,
   "metadata": {
    "collapsed": true
   },
   "outputs": [],
   "source": [
    "import pandas as pd\n",
    "import numpy as np\n",
    "import panel as pn\n",
    "pn.extension(\"tabulator\")\n",
    "\n",
    "import hvplot.pandas"
   ]
  },
  {
   "cell_type": "code",
   "execution_count": null,
   "outputs": [],
   "source": [
    "# Define widgets\n",
    "slider_example = None\n",
    "graph_example1 = None\n",
    "plot_example1 = None\n",
    "plot_example2 = None\n",
    "plot_example_3 = None\n",
    "plot_example4 = None\n",
    "table_example = None"
   ],
   "metadata": {
    "collapsed": false
   }
  },
  {
   "cell_type": "code",
   "execution_count": null,
   "outputs": [],
   "source": [
    "#Layout using Template\n",
    "template = pn.template.FastListTemplate(\n",
    "    title='Dashboard Title',\n",
    "    sidebar=[pn.pane.Markdown(\"# Title\"),\n",
    "             # pn.pane.Markdown(\"#### text\"),\n",
    "             # pn.pane.PNG('text.png', sizing_mode='scale_both'),\n",
    "             pn.pane.Markdown(\"## Settings\"),\n",
    "             slider_example],\n",
    "    main=[pn.Row(pn.Column(graph_example1,\n",
    "                           plot_example1.panel(width=700), margin=(0,25)),\n",
    "                 table_example.panel(width=500)),\n",
    "          pn.Row(pn.Column(plot_example2.panel(width=600), margin=(0,25)),\n",
    "                 pn.Column(plot_example_3, plot_example4.panel(width=600)))],\n",
    "    accent_base_color=\"#88d8b0\",\n",
    "    header_background=\"#88d8b0\",\n",
    ")\n",
    "# template.show()\n",
    "template.servable();"
   ],
   "metadata": {
    "collapsed": false
   }
  }
 ],
 "metadata": {
  "kernelspec": {
   "display_name": "Python 3",
   "language": "python",
   "name": "python3"
  },
  "language_info": {
   "codemirror_mode": {
    "name": "ipython",
    "version": 2
   },
   "file_extension": ".py",
   "mimetype": "text/x-python",
   "name": "python",
   "nbconvert_exporter": "python",
   "pygments_lexer": "ipython2",
   "version": "2.7.6"
  }
 },
 "nbformat": 4,
 "nbformat_minor": 0
}

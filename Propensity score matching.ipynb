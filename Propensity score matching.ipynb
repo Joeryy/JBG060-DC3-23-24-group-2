{
 "cells": [
  {
   "cell_type": "markdown",
   "metadata": {},
   "source": [
    "# Propensity score testing\n",
    "In this notebook, propensity score matching is tested to see the influence of conflict on IPC"
   ]
  },
  {
   "cell_type": "code",
   "execution_count": 1,
   "metadata": {},
   "outputs": [],
   "source": [
    "import pandas as pd\n",
    "import statsmodels.api as sm\n",
    "from causalinference import CausalModel"
   ]
  },
  {
   "cell_type": "code",
   "execution_count": 2,
   "metadata": {},
   "outputs": [
    {
     "name": "stdout",
     "output_type": "stream",
     "text": [
      "60     0.0\n",
      "61     0.0\n",
      "66     0.0\n",
      "67     0.0\n",
      "72     0.0\n",
      "      ... \n",
      "299    0.0\n",
      "306    0.0\n",
      "307    0.0\n",
      "314    0.0\n",
      "315    0.0\n",
      "Name: total_conflict#, Length: 78, dtype: float64\n"
     ]
    }
   ],
   "source": [
    "#Import the dataset\n",
    "dataset = pd.read_csv(\"merged_df_for_causality_v2.csv\")\n",
    "\n",
    "#Replace NaN values for IPC\n",
    "dataset.dropna(subset=['ipc'], inplace=True)\n",
    "\n",
    "# Below you can see that I've tried to make every non-zero value 1 in the total conflict column, \n",
    "# making this a binary variable. Sadly this did not help.\n",
    "# if you uncomment the code below and use \"dataset_conflict_binary\" instead of \"dataset\" you will see this\n",
    "\n",
    "# dataset_conflict_binary = dataset\n",
    "# dataset_conflict_binary.loc[dataset_conflict_binary['total_conflict#'] >= 1] = 1\n",
    "# print(dataset_conflict_binary['total_conflict#'])"
   ]
  },
  {
   "cell_type": "markdown",
   "metadata": {},
   "source": [
    "### Transform categorical data into dummy variables and isolate cofounders"
   ]
  },
  {
   "cell_type": "code",
   "execution_count": 3,
   "metadata": {},
   "outputs": [],
   "source": [
    "#Drop first is done to get rid of the dummy variable trap\n",
    "dataset_conflict_binary = pd.get_dummies(data = dataset, drop_first = True)\n",
    "Y = dataset_conflict_binary.loc[:, 'ipc'].values\n",
    "X = dataset_conflict_binary.loc[:, 'total_conflict#'].values\n",
    "confounders = dataset_conflict_binary.drop(columns = [\"ipc\", \"total_conflict#\"]).values"
   ]
  },
  {
   "cell_type": "markdown",
   "metadata": {},
   "source": [
    "How should we fix the problem of having too few control units?"
   ]
  },
  {
   "cell_type": "code",
   "execution_count": 4,
   "metadata": {},
   "outputs": [
    {
     "data": {
      "text/plain": [
       "array([0., 1.])"
      ]
     },
     "execution_count": 4,
     "metadata": {},
     "output_type": "execute_result"
    }
   ],
   "source": [
    "dataset['total_conflict#'].unique()"
   ]
  },
  {
   "cell_type": "code",
   "execution_count": 5,
   "metadata": {},
   "outputs": [
    {
     "name": "stdout",
     "output_type": "stream",
     "text": [
      "(78,)\n",
      "(78,)\n",
      "(78, 95)\n",
      "\n",
      "[0. 0. 0. 0. 0. 0. 0. 0. 0. 0. 0. 0. 0. 0. 0. 0. 1. 1. 0. 0. 0. 0. 1. 1.\n",
      " 0. 0. 0. 0. 0. 0. 0. 0. 0. 0. 0. 1. 1. 1. 1. 1. 0. 1. 0. 1. 0. 1. 0. 0.\n",
      " 0. 0. 0. 0. 0. 0. 0. 0. 0. 0. 0. 0. 0. 0. 0. 0. 0. 0. 0. 0. 0. 0. 0. 0.\n",
      " 0. 0. 0. 0. 0. 0.]\n",
      "[1. 1. 1. 1. 2. 1. 1. 1. 2. 2. 2. 2. 2. 2. 2. 3. 1. 1. 1. 1. 2. 2. 1. 1.\n",
      " 2. 3. 1. 2. 1. 1. 2. 2. 2. 2. 1. 1. 1. 1. 1. 1. 4. 1. 3. 1. 3. 1. 3. 3.\n",
      " 4. 4. 4. 4. 4. 3. 3. 2. 4. 2. 4. 3. 4. 3. 3. 3. 4. 3. 4. 3. 3. 3. 4. 3.\n",
      " 4. 3. 3. 3. 3. 3.]\n",
      "[[127.        29.85742    8.633903 ...   0.         0.         0.      ]\n",
      " [143.        29.63566    9.268476 ...   0.         0.         0.      ]\n",
      " [127.        29.85742    8.633903 ...   0.         0.         0.      ]\n",
      " ...\n",
      " [143.        29.63566    9.268476 ...   0.         1.         0.      ]\n",
      " [127.        29.85742    8.633903 ...   0.         0.         1.      ]\n",
      " [143.        29.63566    9.268476 ...   0.         0.         1.      ]]\n"
     ]
    }
   ],
   "source": [
    "print(X.shape)\n",
    "print(Y.shape)\n",
    "print(confounders.shape)\n",
    "print(\"\")\n",
    "print(X)\n",
    "print(Y)\n",
    "print(confounders)"
   ]
  },
  {
   "cell_type": "markdown",
   "metadata": {},
   "source": [
    "### Propensity score matching"
   ]
  },
  {
   "cell_type": "code",
   "execution_count": 6,
   "metadata": {},
   "outputs": [
    {
     "ename": "ValueError",
     "evalue": "Too few control units: N_c < K+1",
     "output_type": "error",
     "traceback": [
      "\u001b[0;31m---------------------------------------------------------------------------\u001b[0m",
      "\u001b[0;31mValueError\u001b[0m                                Traceback (most recent call last)",
      "\u001b[1;32m/Users/casparnijssen/Library/CloudStorage/OneDrive-TUEindhoven/2023-2024/Q1/JBG060 Data Challenge 3/Causality_analysis/Propensity score matching.ipynb Cell 10\u001b[0m line \u001b[0;36m2\n\u001b[1;32m      <a href='vscode-notebook-cell:/Users/casparnijssen/Library/CloudStorage/OneDrive-TUEindhoven/2023-2024/Q1/JBG060%20Data%20Challenge%203/Causality_analysis/Propensity%20score%20matching.ipynb#W6sZmlsZQ%3D%3D?line=0'>1</a>\u001b[0m \u001b[39mfrom\u001b[39;00m \u001b[39mcausalinference\u001b[39;00m \u001b[39mimport\u001b[39;00m CausalModel\n\u001b[0;32m----> <a href='vscode-notebook-cell:/Users/casparnijssen/Library/CloudStorage/OneDrive-TUEindhoven/2023-2024/Q1/JBG060%20Data%20Challenge%203/Causality_analysis/Propensity%20score%20matching.ipynb#W6sZmlsZQ%3D%3D?line=1'>2</a>\u001b[0m model \u001b[39m=\u001b[39m CausalModel(Y, X, confounders)\n\u001b[1;32m      <a href='vscode-notebook-cell:/Users/casparnijssen/Library/CloudStorage/OneDrive-TUEindhoven/2023-2024/Q1/JBG060%20Data%20Challenge%203/Causality_analysis/Propensity%20score%20matching.ipynb#W6sZmlsZQ%3D%3D?line=3'>4</a>\u001b[0m \u001b[39m# The bias_adj specifies whether bias adjustments should be attempted\u001b[39;00m\n\u001b[1;32m      <a href='vscode-notebook-cell:/Users/casparnijssen/Library/CloudStorage/OneDrive-TUEindhoven/2023-2024/Q1/JBG060%20Data%20Challenge%203/Causality_analysis/Propensity%20score%20matching.ipynb#W6sZmlsZQ%3D%3D?line=4'>5</a>\u001b[0m model\u001b[39m.\u001b[39mest_via_matching(bias_adj \u001b[39m=\u001b[39m \u001b[39mTrue\u001b[39;00m)\n",
      "File \u001b[0;32m/Library/Frameworks/Python.framework/Versions/3.10/lib/python3.10/site-packages/causalinference/causal.py:17\u001b[0m, in \u001b[0;36mCausalModel.__init__\u001b[0;34m(self, Y, D, X)\u001b[0m\n\u001b[1;32m     15\u001b[0m \u001b[39mdef\u001b[39;00m \u001b[39m__init__\u001b[39m(\u001b[39mself\u001b[39m, Y, D, X):\n\u001b[0;32m---> 17\u001b[0m \t\u001b[39mself\u001b[39m\u001b[39m.\u001b[39mold_data \u001b[39m=\u001b[39m Data(Y, D, X)\n\u001b[1;32m     18\u001b[0m \t\u001b[39mself\u001b[39m\u001b[39m.\u001b[39mreset()\n",
      "File \u001b[0;32m/Library/Frameworks/Python.framework/Versions/3.10/lib/python3.10/site-packages/causalinference/core/data.py:63\u001b[0m, in \u001b[0;36mData.__init__\u001b[0;34m(self, outcome, treatment, covariates)\u001b[0m\n\u001b[1;32m     61\u001b[0m \u001b[39mself\u001b[39m\u001b[39m.\u001b[39m_dict[\u001b[39m'\u001b[39m\u001b[39mN_c\u001b[39m\u001b[39m'\u001b[39m] \u001b[39m=\u001b[39m \u001b[39mself\u001b[39m\u001b[39m.\u001b[39m_dict[\u001b[39m'\u001b[39m\u001b[39mN\u001b[39m\u001b[39m'\u001b[39m] \u001b[39m-\u001b[39m \u001b[39mself\u001b[39m\u001b[39m.\u001b[39m_dict[\u001b[39m'\u001b[39m\u001b[39mN_t\u001b[39m\u001b[39m'\u001b[39m]\n\u001b[1;32m     62\u001b[0m \u001b[39mif\u001b[39;00m \u001b[39mself\u001b[39m\u001b[39m.\u001b[39m_dict[\u001b[39m'\u001b[39m\u001b[39mK\u001b[39m\u001b[39m'\u001b[39m]\u001b[39m+\u001b[39m\u001b[39m1\u001b[39m \u001b[39m>\u001b[39m \u001b[39mself\u001b[39m\u001b[39m.\u001b[39m_dict[\u001b[39m'\u001b[39m\u001b[39mN_c\u001b[39m\u001b[39m'\u001b[39m]:\n\u001b[0;32m---> 63\u001b[0m \t\u001b[39mraise\u001b[39;00m \u001b[39mValueError\u001b[39;00m(\u001b[39m'\u001b[39m\u001b[39mToo few control units: N_c < K+1\u001b[39m\u001b[39m'\u001b[39m)\n\u001b[1;32m     64\u001b[0m \u001b[39mif\u001b[39;00m \u001b[39mself\u001b[39m\u001b[39m.\u001b[39m_dict[\u001b[39m'\u001b[39m\u001b[39mK\u001b[39m\u001b[39m'\u001b[39m]\u001b[39m+\u001b[39m\u001b[39m1\u001b[39m \u001b[39m>\u001b[39m \u001b[39mself\u001b[39m\u001b[39m.\u001b[39m_dict[\u001b[39m'\u001b[39m\u001b[39mN_t\u001b[39m\u001b[39m'\u001b[39m]:\n\u001b[1;32m     65\u001b[0m \t\u001b[39mraise\u001b[39;00m \u001b[39mValueError\u001b[39;00m(\u001b[39m'\u001b[39m\u001b[39mToo few treated units: N_t < K+1\u001b[39m\u001b[39m'\u001b[39m)\n",
      "\u001b[0;31mValueError\u001b[0m: Too few control units: N_c < K+1"
     ]
    }
   ],
   "source": [
    "from causalinference import CausalModel\n",
    "model = CausalModel(Y, X, confounders)\n",
    "\n",
    "# The bias_adj specifies whether bias adjustments should be attempted\n",
    "model.est_via_matching(bias_adj = True)\n",
    "print(model.estimates)\n"
   ]
  }
 ],
 "metadata": {
  "kernelspec": {
   "display_name": "Python 3",
   "language": "python",
   "name": "python3"
  },
  "language_info": {
   "codemirror_mode": {
    "name": "ipython",
    "version": 3
   },
   "file_extension": ".py",
   "mimetype": "text/x-python",
   "name": "python",
   "nbconvert_exporter": "python",
   "pygments_lexer": "ipython3",
   "version": "3.10.7"
  }
 },
 "nbformat": 4,
 "nbformat_minor": 2
}

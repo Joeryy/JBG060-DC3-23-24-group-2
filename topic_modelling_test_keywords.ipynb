{
 "cells": [
  {
   "cell_type": "markdown",
   "metadata": {},
   "source": [
    "# Topic modelling using BERTopic"
   ]
  },
  {
   "cell_type": "markdown",
   "metadata": {},
   "source": [
    "## Libraries/data required"
   ]
  },
  {
   "cell_type": "code",
   "execution_count": 78,
   "metadata": {
    "ExecuteTime": {
     "end_time": "2023-09-27T18:13:06.044184400Z",
     "start_time": "2023-09-27T18:13:06.001250Z"
    }
   },
   "outputs": [],
   "source": [
    "# IMPORTS\n",
    "from bertopic import BERTopic\n",
    "import pandas as pd\n",
    "import os"
   ]
  },
  {
   "cell_type": "code",
   "execution_count": 79,
   "metadata": {
    "ExecuteTime": {
     "end_time": "2023-09-27T18:13:06.105184700Z",
     "start_time": "2023-09-27T18:13:06.003759500Z"
    }
   },
   "outputs": [
    {
     "name": "stdout",
     "output_type": "stream",
     "text": [
      "(18520, 5)\n"
     ]
    },
    {
     "data": {
      "text/plain": "                                             summary       date  \\\n0  The article discusses the passing of the new C... 2011-07-07   \n1  The article discusses the military actions tak... 2011-07-03   \n2  The article discusses the signing of a Framewo... 2011-06-30   \n3  The article discusses the upcoming independenc... 2011-07-04   \n4  The article discusses the need for South Sudan... 2011-07-02   \n\n    location_article        lat        lng  \n0               Juba   4.859363  31.571250  \n1              Abyei   9.838551  28.486396  \n2  Southern Kordofan  11.036544  30.895824  \n3        South Sudan   6.876992  31.306979  \n4               Juba   4.859363  31.571250  ",
      "text/html": "<div>\n<style scoped>\n    .dataframe tbody tr th:only-of-type {\n        vertical-align: middle;\n    }\n\n    .dataframe tbody tr th {\n        vertical-align: top;\n    }\n\n    .dataframe thead th {\n        text-align: right;\n    }\n</style>\n<table border=\"1\" class=\"dataframe\">\n  <thead>\n    <tr style=\"text-align: right;\">\n      <th></th>\n      <th>summary</th>\n      <th>date</th>\n      <th>location_article</th>\n      <th>lat</th>\n      <th>lng</th>\n    </tr>\n  </thead>\n  <tbody>\n    <tr>\n      <th>0</th>\n      <td>The article discusses the passing of the new C...</td>\n      <td>2011-07-07</td>\n      <td>Juba</td>\n      <td>4.859363</td>\n      <td>31.571250</td>\n    </tr>\n    <tr>\n      <th>1</th>\n      <td>The article discusses the military actions tak...</td>\n      <td>2011-07-03</td>\n      <td>Abyei</td>\n      <td>9.838551</td>\n      <td>28.486396</td>\n    </tr>\n    <tr>\n      <th>2</th>\n      <td>The article discusses the signing of a Framewo...</td>\n      <td>2011-06-30</td>\n      <td>Southern Kordofan</td>\n      <td>11.036544</td>\n      <td>30.895824</td>\n    </tr>\n    <tr>\n      <th>3</th>\n      <td>The article discusses the upcoming independenc...</td>\n      <td>2011-07-04</td>\n      <td>South Sudan</td>\n      <td>6.876992</td>\n      <td>31.306979</td>\n    </tr>\n    <tr>\n      <th>4</th>\n      <td>The article discusses the need for South Sudan...</td>\n      <td>2011-07-02</td>\n      <td>Juba</td>\n      <td>4.859363</td>\n      <td>31.571250</td>\n    </tr>\n  </tbody>\n</table>\n</div>"
     },
     "execution_count": 79,
     "metadata": {},
     "output_type": "execute_result"
    }
   ],
   "source": [
    "# Read the data and perform preprocessing\n",
    "\n",
    "df = pd.read_csv(\"data/articles_summary_cleaned.csv\", parse_dates=[\"date\"]) # Read data into 'df' dataframe\n",
    "print(df.shape) # Print dataframe shape\n",
    "\n",
    "docs = df[\"summary\"].tolist() # Create a list containing all article summaries\n",
    "\n",
    "df.head() # Show first 5 dataframe entries"
   ]
  },
  {
   "cell_type": "markdown",
   "metadata": {},
   "source": [
    "## Fitting BERTopic\n",
    "\n",
    "This might take a while on a CPU. In the background a pre-trained Large Language Model, called the sentence embedder, is used to convert the articles to a semantic vector space. We then perform clustering in this space."
   ]
  },
  {
   "cell_type": "code",
   "execution_count": 80,
   "metadata": {
    "ExecuteTime": {
     "end_time": "2023-09-27T18:13:07.164125300Z",
     "start_time": "2023-09-27T18:13:06.102674700Z"
    }
   },
   "outputs": [],
   "source": [
    "if os.path.exists('southsudan_model'):\n",
    "    bertopic = BERTopic.load('southsudan_model')\n",
    "else:\n",
    "    bertopic = BERTopic(language=\"english\", calculate_probabilities=True, verbose=True) # Initialize the BERTopic model\n",
    "\n",
    "    bertopic.fit_transform(docs) # Fit the model to the list of article summaries\n",
    "    bertopic.save(\"southsudan_model\") # Save the trained model as \"southsudan_model\""
   ]
  },
  {
   "cell_type": "code",
   "execution_count": 81,
   "metadata": {
    "ExecuteTime": {
     "end_time": "2023-09-27T18:13:07.167986400Z",
     "start_time": "2023-09-27T18:13:07.166130400Z"
    }
   },
   "outputs": [],
   "source": [
    "#Due to the modularity of the model, there is a lot of randomness that hinders reproducibiity of the model.\n",
    "#To fight this, you can for example set random state in the dimensionality reduction step via the following lines \n",
    "#or explore a different approach\n",
    "\n",
    "#from bertopic import BERTopic\n",
    "#from umap import UMAP\n",
    "\n",
    "#umap_model = UMAP(n_neighbors=15, n_components=5, \n",
    "#                  min_dist=0.0, metric='cosine', random_state=42)\n",
    "#topic_model = BERTopic(umap_model=umap_model)"
   ]
  },
  {
   "cell_type": "markdown",
   "metadata": {},
   "source": [
    "## Interactive visualization of the vector space\n",
    "\n",
    "As you can see, documents with related topics are close in the space."
   ]
  },
  {
   "cell_type": "code",
   "execution_count": 82,
   "metadata": {
    "ExecuteTime": {
     "end_time": "2023-09-27T18:13:07.203053800Z",
     "start_time": "2023-09-27T18:13:07.169495Z"
    }
   },
   "outputs": [],
   "source": [
    "# We don't need this visualization\n",
    "\n",
    "# bertopic.visualize_documents(docs) # Create a plot of the topics, this may take a while"
   ]
  },
  {
   "cell_type": "code",
   "execution_count": 83,
   "outputs": [],
   "source": [
    "# Define a list with keywords that we use later on in the notebook\n",
    "\n",
    "# List that is being used to check for articles, separately for each keyword in the list\n",
    "list_keywords = [\"hunger\", 'refugees', 'conflict', 'humanitarian']\n",
    "\n",
    "# List that is being used to check for articles that have all keywords in the list in common - Multiple lists can be tested at once!\n",
    "multiple_keywords = [[\"hunger\", \"refugees\"], ['conflict', \"humanitarian\"]]"
   ],
   "metadata": {
    "collapsed": false,
    "ExecuteTime": {
     "end_time": "2023-09-27T18:13:07.203053800Z",
     "start_time": "2023-09-27T18:13:07.197662800Z"
    }
   }
  },
  {
   "cell_type": "markdown",
   "metadata": {},
   "source": [
    "### Creating smaller topics\n",
    "\n",
    "Within our list of topics, we find topics that are semantically closest to the list of keywords as defined above.\n",
    "\n",
    "**Feel free to change this approach!**"
   ]
  },
  {
   "cell_type": "code",
   "execution_count": 84,
   "metadata": {
    "ExecuteTime": {
     "end_time": "2023-09-27T18:13:07.206264800Z",
     "start_time": "2023-09-27T18:13:07.202031200Z"
    }
   },
   "outputs": [],
   "source": [
    "# We create a function to calculate a list of the top n topics related to (a) given keyword(s)\n",
    "\n",
    "def get_relevant_topics(bertopic_model, keywords, top_n):\n",
    "    '''\n",
    "    Retrieve a list of the top n number of relevant topics to the provided (list of) keyword(s)\n",
    "    \n",
    "    \n",
    "    Parameters:\n",
    "        bertopic_model: a (fitted) BERTopic model object\n",
    "        \n",
    "        keywords:   a string containing one or multiple keywords to match against,\n",
    "                    \n",
    "                    This can also be a list in the form of ['keyword(s)', keyword(s), ...]\n",
    "                    \n",
    "                    In this case a maximum of top_n topics will be found per list element \n",
    "                    and subsetted to the top_n most relevant topics.\n",
    "                    \n",
    "                    !!!\n",
    "                    Take care that this method only considers the relevancy per inputted keyword(s) \n",
    "                    and not the relevancy to the combined list of keywords.\n",
    "                    \n",
    "                    In other words, topics that appear in the output might be significantly related to a \n",
    "                    particular element in the list of keywords but not so to any other element, \n",
    "                    \n",
    "                    while topics that do not appear in the output might be significantly related to the \n",
    "                    combined list of keywords but not much to any of the keyword(s) in particular.\n",
    "                    !!!\n",
    "                    \n",
    "        top_n: an integer indicating the number of desired relevant topics to be retrieved\n",
    "        \n",
    "        \n",
    "        Return: a list of the top_n (or less) topics most relevant to the (list of) provided keyword(s)\n",
    "    '''\n",
    "    \n",
    "    if type(keywords) is str: keywords = [keywords] # If a single string is provided convert it to list type\n",
    "    \n",
    "    relevant_topics = list() # Initilize an empty list of relevant topics\n",
    "    \n",
    "    for keyword in keywords: # Iterate through list of keywords\n",
    "        \n",
    "        # Find the top n number of topics related to the current keyword(s)\n",
    "        topics = bertopic_model.find_topics(keyword, top_n = top_n)\n",
    "        \n",
    "        # Add the topics to the list of relevant topics in the form of (topic_id, relevancy)\n",
    "        relevant_topics.extend(\n",
    "            zip(topics[0], topics[1]) # topics[0] = topic_id, topics[1] = relevancy\n",
    "        )\n",
    "    \n",
    "    \n",
    "    relevant_topics.sort(key=lambda x: x[1]) # Sort the list of topics on ASCENDING ORDER of relevancy\n",
    "    \n",
    "    # Get a list of the set of unique topics (with greates relevancy in case of duplicate topics)\n",
    "    relevant_topics = list(dict(relevant_topics).items())\n",
    "    \n",
    "    \n",
    "    relevant_topics.sort(key=lambda x: x[1], reverse=True) # Now sort the list of topics on DESCENDING ORDER of relevancy\n",
    "    \n",
    "    return relevant_topics[:10] # Return a list of the top_n unique relevant topics"
   ]
  },
  {
   "cell_type": "markdown",
   "source": [
    "### Putting the function to use\n",
    "\n",
    "The next two code cells retrieve articles based on the defined lists above.\n",
    "The first cell will create a dataframe which gathers a top 10 of all articles that match the keyword. It will do this for all keywords separately.\n",
    "The second cell will do the same but then you have the possibility to check for multiple keywords."
   ],
   "metadata": {
    "collapsed": false
   }
  },
  {
   "cell_type": "code",
   "execution_count": 85,
   "metadata": {
    "ExecuteTime": {
     "end_time": "2023-09-27T18:13:07.262080100Z",
     "start_time": "2023-09-27T18:13:07.207264200Z"
    }
   },
   "outputs": [
    {
     "name": "stdout",
     "output_type": "stream",
     "text": [
      "16 0.5067806\n",
      "113 0.45359278\n",
      "100 0.42132196\n",
      "81 0.39846724\n",
      "241 0.3515425\n",
      "21 0.33424088\n",
      "147 0.32523632\n",
      "201 0.3129242\n",
      "37 0.28182873\n",
      "240 0.26837444\n",
      "17 0.68633187\n",
      "14 0.6556574\n",
      "245 0.64660656\n",
      "140 0.6304334\n",
      "151 0.60843873\n",
      "29 0.57537127\n",
      "198 0.5341381\n",
      "72 0.52255523\n",
      "68 0.51275575\n",
      "133 0.5122601\n",
      "247 0.45804715\n",
      "66 0.4092132\n",
      "238 0.38586372\n",
      "253 0.37990516\n",
      "0 0.37799144\n",
      "229 0.375211\n",
      "30 0.37496358\n",
      "15 0.37439907\n",
      "65 0.37156507\n",
      "149 0.36643463\n",
      "72 0.6509177\n",
      "216 0.6434834\n",
      "37 0.6355741\n",
      "177 0.6115271\n",
      "48 0.6110923\n",
      "29 0.6021605\n",
      "140 0.6011702\n",
      "232 0.5888386\n",
      "198 0.5865686\n",
      "91 0.5836561\n"
     ]
    },
    {
     "data": {
      "text/plain": "                                             summary       date  \\\n0  The article discusses the passing of the new C... 2011-07-07   \n1  The article discusses the military actions tak... 2011-07-03   \n2  The article discusses the signing of a Framewo... 2011-06-30   \n3  The article discusses the upcoming independenc... 2011-07-04   \n4  The article discusses the need for South Sudan... 2011-07-02   \n\n    location_article        lat        lng  hunger  refugees  conflict  \\\n0               Juba   4.859363  31.571250   False     False     False   \n1              Abyei   9.838551  28.486396   False     False     False   \n2  Southern Kordofan  11.036544  30.895824   False     False     False   \n3        South Sudan   6.876992  31.306979   False     False     False   \n4               Juba   4.859363  31.571250   False     False     False   \n\n   humanitarian  \n0         False  \n1         False  \n2         False  \n3         False  \n4         False  ",
      "text/html": "<div>\n<style scoped>\n    .dataframe tbody tr th:only-of-type {\n        vertical-align: middle;\n    }\n\n    .dataframe tbody tr th {\n        vertical-align: top;\n    }\n\n    .dataframe thead th {\n        text-align: right;\n    }\n</style>\n<table border=\"1\" class=\"dataframe\">\n  <thead>\n    <tr style=\"text-align: right;\">\n      <th></th>\n      <th>summary</th>\n      <th>date</th>\n      <th>location_article</th>\n      <th>lat</th>\n      <th>lng</th>\n      <th>hunger</th>\n      <th>refugees</th>\n      <th>conflict</th>\n      <th>humanitarian</th>\n    </tr>\n  </thead>\n  <tbody>\n    <tr>\n      <th>0</th>\n      <td>The article discusses the passing of the new C...</td>\n      <td>2011-07-07</td>\n      <td>Juba</td>\n      <td>4.859363</td>\n      <td>31.571250</td>\n      <td>False</td>\n      <td>False</td>\n      <td>False</td>\n      <td>False</td>\n    </tr>\n    <tr>\n      <th>1</th>\n      <td>The article discusses the military actions tak...</td>\n      <td>2011-07-03</td>\n      <td>Abyei</td>\n      <td>9.838551</td>\n      <td>28.486396</td>\n      <td>False</td>\n      <td>False</td>\n      <td>False</td>\n      <td>False</td>\n    </tr>\n    <tr>\n      <th>2</th>\n      <td>The article discusses the signing of a Framewo...</td>\n      <td>2011-06-30</td>\n      <td>Southern Kordofan</td>\n      <td>11.036544</td>\n      <td>30.895824</td>\n      <td>False</td>\n      <td>False</td>\n      <td>False</td>\n      <td>False</td>\n    </tr>\n    <tr>\n      <th>3</th>\n      <td>The article discusses the upcoming independenc...</td>\n      <td>2011-07-04</td>\n      <td>South Sudan</td>\n      <td>6.876992</td>\n      <td>31.306979</td>\n      <td>False</td>\n      <td>False</td>\n      <td>False</td>\n      <td>False</td>\n    </tr>\n    <tr>\n      <th>4</th>\n      <td>The article discusses the need for South Sudan...</td>\n      <td>2011-07-02</td>\n      <td>Juba</td>\n      <td>4.859363</td>\n      <td>31.571250</td>\n      <td>False</td>\n      <td>False</td>\n      <td>False</td>\n      <td>False</td>\n    </tr>\n  </tbody>\n</table>\n</div>"
     },
     "execution_count": 85,
     "metadata": {},
     "output_type": "execute_result"
    }
   ],
   "source": [
    "# Automatic process!\n",
    "# Create a dataframe that stores the top 10 articles that relate to each keyword.\n",
    "for keyword in list_keywords:\n",
    "    relevant_topics = get_relevant_topics(bertopic_model = bertopic, keywords=keyword, top_n=10)\n",
    "\n",
    "    topic_ids = [el[0] for el in relevant_topics] # Create seperate list of topic IDs\n",
    "\n",
    "    for topic_id, relevancy in relevant_topics: # Print neat list of (topic_id, relevancy) tuples\n",
    "        print(topic_id, relevancy)\n",
    "\n",
    "    df[keyword] = [t in topic_ids for t in bertopic.topics_] # Add boolean column to df if topic in list of relevant topics\n",
    "\n",
    "    # View the Count, Name, Representation, and Representative Docs for the relevant topics\n",
    "    bertopic.get_topic_info().set_index('Topic').loc[topic_ids]\n",
    "\n",
    "df.head()"
   ]
  },
  {
   "cell_type": "code",
   "execution_count": 86,
   "metadata": {
    "ExecuteTime": {
     "end_time": "2023-09-27T18:13:07.352144500Z",
     "start_time": "2023-09-27T18:13:07.264081Z"
    }
   },
   "outputs": [
    {
     "name": "stdout",
     "output_type": "stream",
     "text": [
      "hunger, refugees\n",
      "17 0.68633187\n",
      "14 0.6556574\n",
      "245 0.64660656\n",
      "140 0.6304334\n",
      "151 0.60843873\n",
      "29 0.57537127\n",
      "198 0.5341381\n",
      "72 0.52255523\n",
      "68 0.51275575\n",
      "133 0.5122601\n",
      "conflict, humanitarian\n",
      "72 0.6509177\n",
      "216 0.6434834\n",
      "37 0.6355741\n",
      "177 0.6115271\n",
      "48 0.6110923\n",
      "29 0.6021605\n",
      "140 0.6011702\n",
      "232 0.5888386\n",
      "198 0.5865686\n",
      "91 0.5836561\n"
     ]
    },
    {
     "data": {
      "text/plain": "       Count                                      Name  \\\nTopic                                                    \n72        50         72_humanitarian_pibor_jonglei_aid   \n216       14  216_lanzer_toby_coordinator_humanitarian   \n37        79       37_million_aid_humanitarian_funding   \n177       19       177_european_eu_million_commissions   \n48        64        48_workers_aid_humanitarian_worker   \n29        91       29_displaced_idps_people_internally   \n140       26        140_refugees_unhcr_funding_refugee   \n232       12            232_ukraine_canadian_peace_aid   \n198       17             198_civilians_un_unmiss_bases   \n91        41                91_red_cross_icrc_crescent   \n\n                                          Representation  \\\nTopic                                                      \n72     [humanitarian, pibor, jonglei, aid, affected, ...   \n216    [lanzer, toby, coordinator, humanitarian, mr, ...   \n37     [million, aid, humanitarian, funding, billion,...   \n177    [european, eu, million, commissions, humanitar...   \n48     [workers, aid, humanitarian, worker, maban, ki...   \n29     [displaced, idps, people, internally, malakal,...   \n140    [refugees, unhcr, funding, refugee, unhcrs, hu...   \n232    [ukraine, canadian, peace, aid, overshadowed, ...   \n198    [civilians, un, unmiss, bases, displaced, refu...   \n91     [red, cross, icrc, crescent, ifrc, medical, ca...   \n\n                                     Representative_Docs  \nTopic                                                     \n72     [The article discusses an emergency meeting ca...  \n216    [The article discusses a press briefing with t...  \n37     [The article discusses the $600 million aid pl...  \n177    [The article discusses the ongoing armed confl...  \n48     [The article discusses the disappearance of si...  \n29     [The article discusses the high number of inte...  \n140    [The article discusses the appeal made by UNHC...  \n232    [The article discusses the commitment of warri...  \n198    [The article discusses new fighting in South S...  \n91     [The article discusses how the Governor of Jon...  ",
      "text/html": "<div>\n<style scoped>\n    .dataframe tbody tr th:only-of-type {\n        vertical-align: middle;\n    }\n\n    .dataframe tbody tr th {\n        vertical-align: top;\n    }\n\n    .dataframe thead th {\n        text-align: right;\n    }\n</style>\n<table border=\"1\" class=\"dataframe\">\n  <thead>\n    <tr style=\"text-align: right;\">\n      <th></th>\n      <th>Count</th>\n      <th>Name</th>\n      <th>Representation</th>\n      <th>Representative_Docs</th>\n    </tr>\n    <tr>\n      <th>Topic</th>\n      <th></th>\n      <th></th>\n      <th></th>\n      <th></th>\n    </tr>\n  </thead>\n  <tbody>\n    <tr>\n      <th>72</th>\n      <td>50</td>\n      <td>72_humanitarian_pibor_jonglei_aid</td>\n      <td>[humanitarian, pibor, jonglei, aid, affected, ...</td>\n      <td>[The article discusses an emergency meeting ca...</td>\n    </tr>\n    <tr>\n      <th>216</th>\n      <td>14</td>\n      <td>216_lanzer_toby_coordinator_humanitarian</td>\n      <td>[lanzer, toby, coordinator, humanitarian, mr, ...</td>\n      <td>[The article discusses a press briefing with t...</td>\n    </tr>\n    <tr>\n      <th>37</th>\n      <td>79</td>\n      <td>37_million_aid_humanitarian_funding</td>\n      <td>[million, aid, humanitarian, funding, billion,...</td>\n      <td>[The article discusses the $600 million aid pl...</td>\n    </tr>\n    <tr>\n      <th>177</th>\n      <td>19</td>\n      <td>177_european_eu_million_commissions</td>\n      <td>[european, eu, million, commissions, humanitar...</td>\n      <td>[The article discusses the ongoing armed confl...</td>\n    </tr>\n    <tr>\n      <th>48</th>\n      <td>64</td>\n      <td>48_workers_aid_humanitarian_worker</td>\n      <td>[workers, aid, humanitarian, worker, maban, ki...</td>\n      <td>[The article discusses the disappearance of si...</td>\n    </tr>\n    <tr>\n      <th>29</th>\n      <td>91</td>\n      <td>29_displaced_idps_people_internally</td>\n      <td>[displaced, idps, people, internally, malakal,...</td>\n      <td>[The article discusses the high number of inte...</td>\n    </tr>\n    <tr>\n      <th>140</th>\n      <td>26</td>\n      <td>140_refugees_unhcr_funding_refugee</td>\n      <td>[refugees, unhcr, funding, refugee, unhcrs, hu...</td>\n      <td>[The article discusses the appeal made by UNHC...</td>\n    </tr>\n    <tr>\n      <th>232</th>\n      <td>12</td>\n      <td>232_ukraine_canadian_peace_aid</td>\n      <td>[ukraine, canadian, peace, aid, overshadowed, ...</td>\n      <td>[The article discusses the commitment of warri...</td>\n    </tr>\n    <tr>\n      <th>198</th>\n      <td>17</td>\n      <td>198_civilians_un_unmiss_bases</td>\n      <td>[civilians, un, unmiss, bases, displaced, refu...</td>\n      <td>[The article discusses new fighting in South S...</td>\n    </tr>\n    <tr>\n      <th>91</th>\n      <td>41</td>\n      <td>91_red_cross_icrc_crescent</td>\n      <td>[red, cross, icrc, crescent, ifrc, medical, ca...</td>\n      <td>[The article discusses how the Governor of Jon...</td>\n    </tr>\n  </tbody>\n</table>\n</div>"
     },
     "execution_count": 86,
     "metadata": {},
     "output_type": "execute_result"
    }
   ],
   "source": [
    "# Get the top 10 topics related to all the keywords, per sub list.\n",
    "# Only a dataframe of the last sublist will be printed.\n",
    "for sublist in multiple_keywords:\n",
    "    relevant_topics = get_relevant_topics(bertopic_model = bertopic, keywords=sublist, top_n=10)\n",
    "\n",
    "    name = \", \".join(sublist)\n",
    "    print(name)\n",
    "\n",
    "    topic_ids = [el[0] for el in relevant_topics] # Create seperate list of topic IDs\n",
    "\n",
    "    for topic_id, relevancy in relevant_topics: # Print neat list of (topic_id, relevancy) tuples\n",
    "        print(topic_id, relevancy)\n",
    "\n",
    "    df[name] = [t in topic_ids for t in bertopic.topics_] # Add boolean column to df if topic in list of relevant topics\n",
    "\n",
    "# View the Count, Name, Representation, and Representative Docs for the relevant topics\n",
    "bertopic.get_topic_info().set_index('Topic').loc[topic_ids]"
   ]
  },
  {
   "cell_type": "code",
   "execution_count": 87,
   "outputs": [
    {
     "data": {
      "text/plain": "                                                 summary       date  \\\n0      The article discusses the passing of the new C... 2011-07-07   \n1      The article discusses the military actions tak... 2011-07-03   \n2      The article discusses the signing of a Framewo... 2011-06-30   \n3      The article discusses the upcoming independenc... 2011-07-04   \n4      The article discusses the need for South Sudan... 2011-07-02   \n...                                                  ...        ...   \n18515  The article discusses the successful delivery ... 2023-04-26   \n18516  The article discusses the bombing and forced e... 2023-04-26   \n18517  The article discusses how Prime Minister Abiy ... 2023-04-23   \n18518  The article discusses the collapse of a commer... 2023-04-17   \n18519  The article discusses the establishment of a m... 2023-04-24   \n\n                        location_article        lat        lng  hunger  \\\n0                                   Juba   4.859363  31.571250   False   \n1                                  Abyei   9.838551  28.486396   False   \n2                      Southern Kordofan  11.036544  30.895824   False   \n3                            South Sudan   6.876992  31.306979   False   \n4                                   Juba   4.859363  31.571250   False   \n...                                  ...        ...        ...     ...   \n18515  Maiwut Primary Health Care Centre   8.606200  33.924100   False   \n18516                           Khartoum  15.500654  32.559899   False   \n18517                        Addis Ababa   8.980603  38.757761   False   \n18518   Kampala International University   0.294360  32.603970   False   \n18519                 North Darfur State  15.766197  24.904221   False   \n\n       refugees  conflict  humanitarian  hunger, refugees  \\\n0         False     False         False             False   \n1         False     False         False             False   \n2         False     False         False             False   \n3         False     False         False             False   \n4         False     False         False             False   \n...         ...       ...           ...               ...   \n18515     False     False         False             False   \n18516     False     False         False             False   \n18517     False     False         False             False   \n18518     False     False         False             False   \n18519      True     False         False              True   \n\n       conflict, humanitarian  \n0                       False  \n1                       False  \n2                       False  \n3                       False  \n4                       False  \n...                       ...  \n18515                   False  \n18516                   False  \n18517                   False  \n18518                   False  \n18519                   False  \n\n[18520 rows x 11 columns]",
      "text/html": "<div>\n<style scoped>\n    .dataframe tbody tr th:only-of-type {\n        vertical-align: middle;\n    }\n\n    .dataframe tbody tr th {\n        vertical-align: top;\n    }\n\n    .dataframe thead th {\n        text-align: right;\n    }\n</style>\n<table border=\"1\" class=\"dataframe\">\n  <thead>\n    <tr style=\"text-align: right;\">\n      <th></th>\n      <th>summary</th>\n      <th>date</th>\n      <th>location_article</th>\n      <th>lat</th>\n      <th>lng</th>\n      <th>hunger</th>\n      <th>refugees</th>\n      <th>conflict</th>\n      <th>humanitarian</th>\n      <th>hunger, refugees</th>\n      <th>conflict, humanitarian</th>\n    </tr>\n  </thead>\n  <tbody>\n    <tr>\n      <th>0</th>\n      <td>The article discusses the passing of the new C...</td>\n      <td>2011-07-07</td>\n      <td>Juba</td>\n      <td>4.859363</td>\n      <td>31.571250</td>\n      <td>False</td>\n      <td>False</td>\n      <td>False</td>\n      <td>False</td>\n      <td>False</td>\n      <td>False</td>\n    </tr>\n    <tr>\n      <th>1</th>\n      <td>The article discusses the military actions tak...</td>\n      <td>2011-07-03</td>\n      <td>Abyei</td>\n      <td>9.838551</td>\n      <td>28.486396</td>\n      <td>False</td>\n      <td>False</td>\n      <td>False</td>\n      <td>False</td>\n      <td>False</td>\n      <td>False</td>\n    </tr>\n    <tr>\n      <th>2</th>\n      <td>The article discusses the signing of a Framewo...</td>\n      <td>2011-06-30</td>\n      <td>Southern Kordofan</td>\n      <td>11.036544</td>\n      <td>30.895824</td>\n      <td>False</td>\n      <td>False</td>\n      <td>False</td>\n      <td>False</td>\n      <td>False</td>\n      <td>False</td>\n    </tr>\n    <tr>\n      <th>3</th>\n      <td>The article discusses the upcoming independenc...</td>\n      <td>2011-07-04</td>\n      <td>South Sudan</td>\n      <td>6.876992</td>\n      <td>31.306979</td>\n      <td>False</td>\n      <td>False</td>\n      <td>False</td>\n      <td>False</td>\n      <td>False</td>\n      <td>False</td>\n    </tr>\n    <tr>\n      <th>4</th>\n      <td>The article discusses the need for South Sudan...</td>\n      <td>2011-07-02</td>\n      <td>Juba</td>\n      <td>4.859363</td>\n      <td>31.571250</td>\n      <td>False</td>\n      <td>False</td>\n      <td>False</td>\n      <td>False</td>\n      <td>False</td>\n      <td>False</td>\n    </tr>\n    <tr>\n      <th>...</th>\n      <td>...</td>\n      <td>...</td>\n      <td>...</td>\n      <td>...</td>\n      <td>...</td>\n      <td>...</td>\n      <td>...</td>\n      <td>...</td>\n      <td>...</td>\n      <td>...</td>\n      <td>...</td>\n    </tr>\n    <tr>\n      <th>18515</th>\n      <td>The article discusses the successful delivery ...</td>\n      <td>2023-04-26</td>\n      <td>Maiwut Primary Health Care Centre</td>\n      <td>8.606200</td>\n      <td>33.924100</td>\n      <td>False</td>\n      <td>False</td>\n      <td>False</td>\n      <td>False</td>\n      <td>False</td>\n      <td>False</td>\n    </tr>\n    <tr>\n      <th>18516</th>\n      <td>The article discusses the bombing and forced e...</td>\n      <td>2023-04-26</td>\n      <td>Khartoum</td>\n      <td>15.500654</td>\n      <td>32.559899</td>\n      <td>False</td>\n      <td>False</td>\n      <td>False</td>\n      <td>False</td>\n      <td>False</td>\n      <td>False</td>\n    </tr>\n    <tr>\n      <th>18517</th>\n      <td>The article discusses how Prime Minister Abiy ...</td>\n      <td>2023-04-23</td>\n      <td>Addis Ababa</td>\n      <td>8.980603</td>\n      <td>38.757761</td>\n      <td>False</td>\n      <td>False</td>\n      <td>False</td>\n      <td>False</td>\n      <td>False</td>\n      <td>False</td>\n    </tr>\n    <tr>\n      <th>18518</th>\n      <td>The article discusses the collapse of a commer...</td>\n      <td>2023-04-17</td>\n      <td>Kampala International University</td>\n      <td>0.294360</td>\n      <td>32.603970</td>\n      <td>False</td>\n      <td>False</td>\n      <td>False</td>\n      <td>False</td>\n      <td>False</td>\n      <td>False</td>\n    </tr>\n    <tr>\n      <th>18519</th>\n      <td>The article discusses the establishment of a m...</td>\n      <td>2023-04-24</td>\n      <td>North Darfur State</td>\n      <td>15.766197</td>\n      <td>24.904221</td>\n      <td>False</td>\n      <td>True</td>\n      <td>False</td>\n      <td>False</td>\n      <td>True</td>\n      <td>False</td>\n    </tr>\n  </tbody>\n</table>\n<p>18520 rows × 11 columns</p>\n</div>"
     },
     "execution_count": 87,
     "metadata": {},
     "output_type": "execute_result"
    }
   ],
   "source": [
    "# Show the dataframe with all the keywords and multiple keywords combination\n",
    "df"
   ],
   "metadata": {
    "collapsed": false,
    "ExecuteTime": {
     "end_time": "2023-09-27T18:13:07.353144800Z",
     "start_time": "2023-09-27T18:13:07.310623900Z"
    }
   }
  },
  {
   "cell_type": "code",
   "execution_count": 88,
   "metadata": {
    "ExecuteTime": {
     "end_time": "2023-09-27T18:13:07.654221800Z",
     "start_time": "2023-09-27T18:13:07.320613400Z"
    }
   },
   "outputs": [
    {
     "data": {
      "text/plain": "                                             summary       date  \\\n0  The article discusses the passing of the new C... 2011-07-07   \n1  The article discusses the military actions tak... 2011-07-03   \n2  The article discusses the signing of a Framewo... 2011-06-30   \n3  The article discusses the upcoming independenc... 2011-07-04   \n4  The article discusses the need for South Sudan... 2011-07-02   \n\n    location_article        lat        lng  hunger  refugees  conflict  \\\n0               Juba   4.859363  31.571250   False     False     False   \n1              Abyei   9.838551  28.486396   False     False     False   \n2  Southern Kordofan  11.036544  30.895824   False     False     False   \n3        South Sudan   6.876992  31.306979   False     False     False   \n4               Juba   4.859363  31.571250   False     False     False   \n\n   humanitarian  \n0         False  \n1         False  \n2         False  \n3         False  \n4         False  ",
      "text/html": "<div>\n<style scoped>\n    .dataframe tbody tr th:only-of-type {\n        vertical-align: middle;\n    }\n\n    .dataframe tbody tr th {\n        vertical-align: top;\n    }\n\n    .dataframe thead th {\n        text-align: right;\n    }\n</style>\n<table border=\"1\" class=\"dataframe\">\n  <thead>\n    <tr style=\"text-align: right;\">\n      <th></th>\n      <th>summary</th>\n      <th>date</th>\n      <th>location_article</th>\n      <th>lat</th>\n      <th>lng</th>\n      <th>hunger</th>\n      <th>refugees</th>\n      <th>conflict</th>\n      <th>humanitarian</th>\n    </tr>\n  </thead>\n  <tbody>\n    <tr>\n      <th>0</th>\n      <td>The article discusses the passing of the new C...</td>\n      <td>2011-07-07</td>\n      <td>Juba</td>\n      <td>4.859363</td>\n      <td>31.571250</td>\n      <td>False</td>\n      <td>False</td>\n      <td>False</td>\n      <td>False</td>\n    </tr>\n    <tr>\n      <th>1</th>\n      <td>The article discusses the military actions tak...</td>\n      <td>2011-07-03</td>\n      <td>Abyei</td>\n      <td>9.838551</td>\n      <td>28.486396</td>\n      <td>False</td>\n      <td>False</td>\n      <td>False</td>\n      <td>False</td>\n    </tr>\n    <tr>\n      <th>2</th>\n      <td>The article discusses the signing of a Framewo...</td>\n      <td>2011-06-30</td>\n      <td>Southern Kordofan</td>\n      <td>11.036544</td>\n      <td>30.895824</td>\n      <td>False</td>\n      <td>False</td>\n      <td>False</td>\n      <td>False</td>\n    </tr>\n    <tr>\n      <th>3</th>\n      <td>The article discusses the upcoming independenc...</td>\n      <td>2011-07-04</td>\n      <td>South Sudan</td>\n      <td>6.876992</td>\n      <td>31.306979</td>\n      <td>False</td>\n      <td>False</td>\n      <td>False</td>\n      <td>False</td>\n    </tr>\n    <tr>\n      <th>4</th>\n      <td>The article discusses the need for South Sudan...</td>\n      <td>2011-07-02</td>\n      <td>Juba</td>\n      <td>4.859363</td>\n      <td>31.571250</td>\n      <td>False</td>\n      <td>False</td>\n      <td>False</td>\n      <td>False</td>\n    </tr>\n  </tbody>\n</table>\n</div>"
     },
     "execution_count": 88,
     "metadata": {},
     "output_type": "execute_result"
    }
   ],
   "source": [
    "original_df = pd.read_csv(\"data/articles_summary_cleaned.csv\", parse_dates=[\"date\"])\n",
    "\n",
    "# Combine article summaries with the newly created features\n",
    "df = original_df.merge(\n",
    "    df[[\"summary\"] + list_keywords],\n",
    "    how=\"left\",\n",
    "    left_on=\"summary\",\n",
    "    right_on=\"summary\",\n",
    ")\n",
    "\n",
    "df.to_csv(\"data/articles_topics.csv\", index=False) # Save DataFrame to articles_topics.csv\n",
    "\n",
    "df.head()"
   ]
  },
  {
   "cell_type": "code",
   "execution_count": 89,
   "metadata": {
    "ExecuteTime": {
     "end_time": "2023-09-27T18:13:08.172283500Z",
     "start_time": "2023-09-27T18:13:07.654221800Z"
    }
   },
   "outputs": [
    {
     "name": "stdout",
     "output_type": "stream",
     "text": [
      "18520 total articles\n",
      "16473 articles do not have any relation to any of the keywords\n"
     ]
    }
   ],
   "source": [
    "# Check if each column in drop_columns has False value in any row\n",
    "bool_mask = df[list_keywords].apply(lambda row: all(row == False), axis=1)\n",
    "\n",
    "# Drop rows where any column in drop_columns has False value\n",
    "filtered_df = df[bool_mask]\n",
    "\n",
    "# Print length of original dataframe and filtered dataframe with rows that are not categorized\n",
    "print(str(len(df)) + \" total articles\")\n",
    "print(str(len(filtered_df)) + \" articles do not have any relation to any of the keywords\")\n",
    "\n",
    "# manual check\n",
    "# print(len(df[(df[\"hunger\"]==False) & (df[\"refugees\"] == False) & (df[\"humanitarian\"] == False) & (df[\"conflict\"] == False)]))\n"
   ]
  }
 ],
 "metadata": {
  "kernelspec": {
   "display_name": "Python 3 (ipykernel)",
   "language": "python",
   "name": "python3"
  },
  "language_info": {
   "codemirror_mode": {
    "name": "ipython",
    "version": 3
   },
   "file_extension": ".py",
   "mimetype": "text/x-python",
   "name": "python",
   "nbconvert_exporter": "python",
   "pygments_lexer": "ipython3",
   "version": "3.10.4"
  }
 },
 "nbformat": 4,
 "nbformat_minor": 4
}

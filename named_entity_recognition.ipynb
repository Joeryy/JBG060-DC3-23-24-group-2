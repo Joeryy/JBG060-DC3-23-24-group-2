{
 "cells": [
  {
   "cell_type": "code",
   "execution_count": 1,
   "metadata": {},
   "outputs": [],
   "source": [
    "import spacy\n",
    "import pandas as pd\n",
    "from spacy import displacy\n",
    "import matplotlib.pyplot as plt\n",
    "#from spacy.pipeline import EntityRuler"
   ]
  },
  {
   "cell_type": "code",
   "execution_count": 26,
   "metadata": {},
   "outputs": [
    {
     "name": "stderr",
     "output_type": "stream",
     "text": [
      "c:\\Users\\pthie\\anaconda3\\Lib\\site-packages\\spacy\\util.py:910: UserWarning: [W095] Model 'en_core_web_sm' (3.6.0) was trained with spaCy v3.6.0 and may not be 100% compatible with the current version (3.7.0). If you see errors or degraded performance, download a newer compatible model or retrain your custom model with the current spaCy version. For more details and available updates, run: python -m spacy validate\n",
      "  warnings.warn(warn_msg)\n"
     ]
    },
    {
     "data": {
      "text/plain": [
       "[('tok2vec', <spacy.pipeline.tok2vec.Tok2Vec at 0x19ffb042b10>),\n",
       " ('tagger', <spacy.pipeline.tagger.Tagger at 0x19ffaffbc50>),\n",
       " ('parser', <spacy.pipeline.dep_parser.DependencyParser at 0x19ff478a0a0>),\n",
       " ('attribute_ruler',\n",
       "  <spacy.pipeline.attributeruler.AttributeRuler at 0x19ffb163850>),\n",
       " ('lemmatizer', <spacy.lang.en.lemmatizer.EnglishLemmatizer at 0x19ffb163bd0>),\n",
       " ('entity_ruler', <spacy.pipeline.entityruler.EntityRuler at 0x19ffb011210>),\n",
       " ('ner', <spacy.pipeline.ner.EntityRecognizer at 0x19ffa677ae0>)]"
      ]
     },
     "execution_count": 26,
     "metadata": {},
     "output_type": "execute_result"
    }
   ],
   "source": [
    "NER = spacy.load(\"en_core_web_sm\")\n",
    "ruler = NER.add_pipe(\"entity_ruler\", before='ner')\n",
    "\n",
    "entities = ['rebels', 'rebel', 'Rebel', 'Rebels', 'dinka', 'Dinka', 'army', 'Army', 'Janjaweed', 'janjaweed', 'Messeriya', 'messeriya','peacekeepers', \n",
    "            'Peacekeepers', 'Darfurian traders', 'UNMISS', 'Government of the Republic of South Sudan', 'Darfuris','SSLM', 'SPLM', 'Machar', \"Sudan People's Liberation Movement\", 'SPLA']\n",
    "locations = ['Juba', 'Bentiu', 'Unity State', 'Mayom', 'Bor', 'Jonglei', 'Malakal','Wau']\n",
    "\n",
    "for i in entities:\n",
    "        ruler.add_patterns([{\"label\": \"ORG\", \"pattern\": i}])\n",
    "for l in locations:\n",
    "        ruler.add_patterns([{\"label\": \"GPE\", \"pattern\": l}])\n",
    "\n",
    "NER.pipeline"
   ]
  },
  {
   "cell_type": "code",
   "execution_count": 27,
   "metadata": {},
   "outputs": [],
   "source": [
    "df = pd.read_csv('data/articles_topics_conflict_cleaned.csv', parse_dates=['date'])"
   ]
  },
  {
   "cell_type": "markdown",
   "metadata": {},
   "source": [
    "# use for Article Assignment investigation"
   ]
  },
  {
   "cell_type": "code",
   "execution_count": 28,
   "metadata": {},
   "outputs": [
    {
     "data": {
      "text/plain": [
       "chat_GPT_location    Koch county\n",
       "cd_district_name            Koch\n",
       "Name: 3, dtype: object"
      ]
     },
     "metadata": {},
     "output_type": "display_data"
    },
    {
     "name": "stdout",
     "output_type": "stream",
     "text": [
      "Organizations mentioned in the article:\n",
      "\n",
      "rebel: 3\n",
      "Pakur: 1\n",
      "army: 1\n",
      "the Sudan People's Liberation: 1\n",
      "Army: 1\n",
      "SPLA: 5\n",
      "Unity: 1\n"
     ]
    },
    {
     "data": {
      "text/html": [
       "<span class=\"tex2jax_ignore\"><div class=\"entities\" style=\"line-height: 2.5; direction: ltr\">The article discusses the killing of \n",
       "<mark class=\"entity\" style=\"background: #7aecec; padding: 0.45em 0.6em; margin: 0 0.25em; line-height: 1; border-radius: 0.35em;\">\n",
       "    rebel\n",
       "    <span style=\"font-size: 0.8em; font-weight: bold; line-height: 1; border-radius: 0.35em; vertical-align: middle; margin-left: 0.5rem\">ORG</span>\n",
       "</mark>\n",
       " leader Colonel \n",
       "<mark class=\"entity\" style=\"background: #aa9cfc; padding: 0.45em 0.6em; margin: 0 0.25em; line-height: 1; border-radius: 0.35em;\">\n",
       "    Gatluak Gai\n",
       "    <span style=\"font-size: 0.8em; font-weight: bold; line-height: 1; border-radius: 0.35em; vertical-align: middle; margin-left: 0.5rem\">PERSON</span>\n",
       "</mark>\n",
       ", along with some of his bodyguards, in \n",
       "<mark class=\"entity\" style=\"background: #feca74; padding: 0.45em 0.6em; margin: 0 0.25em; line-height: 1; border-radius: 0.35em;\">\n",
       "    Koch county\n",
       "    <span style=\"font-size: 0.8em; font-weight: bold; line-height: 1; border-radius: 0.35em; vertical-align: middle; margin-left: 0.5rem\">GPE</span>\n",
       "</mark>\n",
       " of \n",
       "<mark class=\"entity\" style=\"background: #feca74; padding: 0.45em 0.6em; margin: 0 0.25em; line-height: 1; border-radius: 0.35em;\">\n",
       "    South Sudan's\n",
       "    <span style=\"font-size: 0.8em; font-weight: bold; line-height: 1; border-radius: 0.35em; vertical-align: middle; margin-left: 0.5rem\">GPE</span>\n",
       "</mark>\n",
       " Unity state, by some people who opened fire on him at \n",
       "<mark class=\"entity\" style=\"background: #7aecec; padding: 0.45em 0.6em; margin: 0 0.25em; line-height: 1; border-radius: 0.35em;\">\n",
       "    Pakur\n",
       "    <span style=\"font-size: 0.8em; font-weight: bold; line-height: 1; border-radius: 0.35em; vertical-align: middle; margin-left: 0.5rem\">ORG</span>\n",
       "</mark>\n",
       " \n",
       "<mark class=\"entity\" style=\"background: #bfe1d9; padding: 0.45em 0.6em; margin: 0 0.25em; line-height: 1; border-radius: 0.35em;\">\n",
       "    three days\n",
       "    <span style=\"font-size: 0.8em; font-weight: bold; line-height: 1; border-radius: 0.35em; vertical-align: middle; margin-left: 0.5rem\">DATE</span>\n",
       "</mark>\n",
       " after he signed a peace deal with \n",
       "<mark class=\"entity\" style=\"background: #ff9561; padding: 0.45em 0.6em; margin: 0 0.25em; line-height: 1; border-radius: 0.35em;\">\n",
       "    South Sudan\n",
       "    <span style=\"font-size: 0.8em; font-weight: bold; line-height: 1; border-radius: 0.35em; vertical-align: middle; margin-left: 0.5rem\">LOC</span>\n",
       "</mark>\n",
       " \n",
       "<mark class=\"entity\" style=\"background: #7aecec; padding: 0.45em 0.6em; margin: 0 0.25em; line-height: 1; border-radius: 0.35em;\">\n",
       "    army\n",
       "    <span style=\"font-size: 0.8em; font-weight: bold; line-height: 1; border-radius: 0.35em; vertical-align: middle; margin-left: 0.5rem\">ORG</span>\n",
       "</mark>\n",
       ", \n",
       "<mark class=\"entity\" style=\"background: #7aecec; padding: 0.45em 0.6em; margin: 0 0.25em; line-height: 1; border-radius: 0.35em;\">\n",
       "    the Sudan People's Liberation\n",
       "    <span style=\"font-size: 0.8em; font-weight: bold; line-height: 1; border-radius: 0.35em; vertical-align: middle; margin-left: 0.5rem\">ORG</span>\n",
       "</mark>\n",
       " \n",
       "<mark class=\"entity\" style=\"background: #7aecec; padding: 0.45em 0.6em; margin: 0 0.25em; line-height: 1; border-radius: 0.35em;\">\n",
       "    Army\n",
       "    <span style=\"font-size: 0.8em; font-weight: bold; line-height: 1; border-radius: 0.35em; vertical-align: middle; margin-left: 0.5rem\">ORG</span>\n",
       "</mark>\n",
       " (\n",
       "<mark class=\"entity\" style=\"background: #7aecec; padding: 0.45em 0.6em; margin: 0 0.25em; line-height: 1; border-radius: 0.35em;\">\n",
       "    SPLA\n",
       "    <span style=\"font-size: 0.8em; font-weight: bold; line-height: 1; border-radius: 0.35em; vertical-align: middle; margin-left: 0.5rem\">ORG</span>\n",
       "</mark>\n",
       "). \n",
       "<mark class=\"entity\" style=\"background: #aa9cfc; padding: 0.45em 0.6em; margin: 0 0.25em; line-height: 1; border-radius: 0.35em;\">\n",
       "    Phillip Aguer\n",
       "    <span style=\"font-size: 0.8em; font-weight: bold; line-height: 1; border-radius: 0.35em; vertical-align: middle; margin-left: 0.5rem\">PERSON</span>\n",
       "</mark>\n",
       ", the \n",
       "<mark class=\"entity\" style=\"background: #7aecec; padding: 0.45em 0.6em; margin: 0 0.25em; line-height: 1; border-radius: 0.35em;\">\n",
       "    SPLA\n",
       "    <span style=\"font-size: 0.8em; font-weight: bold; line-height: 1; border-radius: 0.35em; vertical-align: middle; margin-left: 0.5rem\">ORG</span>\n",
       "</mark>\n",
       " spokesperson, accused \n",
       "<mark class=\"entity\" style=\"background: #feca74; padding: 0.45em 0.6em; margin: 0 0.25em; line-height: 1; border-radius: 0.35em;\">\n",
       "    Gatluak\n",
       "    <span style=\"font-size: 0.8em; font-weight: bold; line-height: 1; border-radius: 0.35em; vertical-align: middle; margin-left: 0.5rem\">GPE</span>\n",
       "</mark>\n",
       "'s deputy, \n",
       "<mark class=\"entity\" style=\"background: #aa9cfc; padding: 0.45em 0.6em; margin: 0 0.25em; line-height: 1; border-radius: 0.35em;\">\n",
       "    Marko Chuol Ruei\n",
       "    <span style=\"font-size: 0.8em; font-weight: bold; line-height: 1; border-radius: 0.35em; vertical-align: middle; margin-left: 0.5rem\">PERSON</span>\n",
       "</mark>\n",
       ", for allegedly opening killing the former \n",
       "<mark class=\"entity\" style=\"background: #7aecec; padding: 0.45em 0.6em; margin: 0 0.25em; line-height: 1; border-radius: 0.35em;\">\n",
       "    rebel\n",
       "    <span style=\"font-size: 0.8em; font-weight: bold; line-height: 1; border-radius: 0.35em; vertical-align: middle; margin-left: 0.5rem\">ORG</span>\n",
       "</mark>\n",
       " leader after disagreement within the \n",
       "<mark class=\"entity\" style=\"background: #7aecec; padding: 0.45em 0.6em; margin: 0 0.25em; line-height: 1; border-radius: 0.35em;\">\n",
       "    rebel\n",
       "    <span style=\"font-size: 0.8em; font-weight: bold; line-height: 1; border-radius: 0.35em; vertical-align: middle; margin-left: 0.5rem\">ORG</span>\n",
       "</mark>\n",
       " camp. After the announcement of election results in \n",
       "<mark class=\"entity\" style=\"background: #bfe1d9; padding: 0.45em 0.6em; margin: 0 0.25em; line-height: 1; border-radius: 0.35em;\">\n",
       "    April last year\n",
       "    <span style=\"font-size: 0.8em; font-weight: bold; line-height: 1; border-radius: 0.35em; vertical-align: middle; margin-left: 0.5rem\">DATE</span>\n",
       "</mark>\n",
       ", Gai defected from the \n",
       "<mark class=\"entity\" style=\"background: #7aecec; padding: 0.45em 0.6em; margin: 0 0.25em; line-height: 1; border-radius: 0.35em;\">\n",
       "    SPLA\n",
       "    <span style=\"font-size: 0.8em; font-weight: bold; line-height: 1; border-radius: 0.35em; vertical-align: middle; margin-left: 0.5rem\">ORG</span>\n",
       "</mark>\n",
       " and rebelled against \n",
       "<mark class=\"entity\" style=\"background: #feca74; padding: 0.45em 0.6em; margin: 0 0.25em; line-height: 1; border-radius: 0.35em;\">\n",
       "    South Sudan's\n",
       "    <span style=\"font-size: 0.8em; font-weight: bold; line-height: 1; border-radius: 0.35em; vertical-align: middle; margin-left: 0.5rem\">GPE</span>\n",
       "</mark>\n",
       " government, hoped to become a county commissioner, and began a localised rebellion against the \n",
       "<mark class=\"entity\" style=\"background: #7aecec; padding: 0.45em 0.6em; margin: 0 0.25em; line-height: 1; border-radius: 0.35em;\">\n",
       "    SPLA\n",
       "    <span style=\"font-size: 0.8em; font-weight: bold; line-height: 1; border-radius: 0.35em; vertical-align: middle; margin-left: 0.5rem\">ORG</span>\n",
       "</mark>\n",
       " and the \n",
       "<mark class=\"entity\" style=\"background: #feca74; padding: 0.45em 0.6em; margin: 0 0.25em; line-height: 1; border-radius: 0.35em;\">\n",
       "    South Sudan\n",
       "    <span style=\"font-size: 0.8em; font-weight: bold; line-height: 1; border-radius: 0.35em; vertical-align: middle; margin-left: 0.5rem\">GPE</span>\n",
       "</mark>\n",
       " government. Other sources in \n",
       "<mark class=\"entity\" style=\"background: #7aecec; padding: 0.45em 0.6em; margin: 0 0.25em; line-height: 1; border-radius: 0.35em;\">\n",
       "    Unity\n",
       "    <span style=\"font-size: 0.8em; font-weight: bold; line-height: 1; border-radius: 0.35em; vertical-align: middle; margin-left: 0.5rem\">ORG</span>\n",
       "</mark>\n",
       " state revealed that \n",
       "<mark class=\"entity\" style=\"background: #feca74; padding: 0.45em 0.6em; margin: 0 0.25em; line-height: 1; border-radius: 0.35em;\">\n",
       "    Gatluak\n",
       "    <span style=\"font-size: 0.8em; font-weight: bold; line-height: 1; border-radius: 0.35em; vertical-align: middle; margin-left: 0.5rem\">GPE</span>\n",
       "</mark>\n",
       " expressed suspicion in the peace agreement with the \n",
       "<mark class=\"entity\" style=\"background: #7aecec; padding: 0.45em 0.6em; margin: 0 0.25em; line-height: 1; border-radius: 0.35em;\">\n",
       "    SPLA\n",
       "    <span style=\"font-size: 0.8em; font-weight: bold; line-height: 1; border-radius: 0.35em; vertical-align: middle; margin-left: 0.5rem\">ORG</span>\n",
       "</mark>\n",
       " when he was referred to as Colonel instead of Lt. General over radio announcement in \n",
       "<mark class=\"entity\" style=\"background: #feca74; padding: 0.45em 0.6em; margin: 0 0.25em; line-height: 1; border-radius: 0.35em;\">\n",
       "    Bentiu\n",
       "    <span style=\"font-size: 0.8em; font-weight: bold; line-height: 1; border-radius: 0.35em; vertical-align: middle; margin-left: 0.5rem\">GPE</span>\n",
       "</mark>\n",
       " after the agreement contrary to the deal that confirmed him as Lt. General, a move that might have prompted the incidence against him.</div></span>"
      ],
      "text/plain": [
       "<IPython.core.display.HTML object>"
      ]
     },
     "metadata": {},
     "output_type": "display_data"
    }
   ],
   "source": [
    "index = 3\n",
    "\n",
    "\n",
    "tex = df['summary'][index]\n",
    "\n",
    "display(df.iloc[index,:][['chat_GPT_location', 'cd_district_name']])\n",
    "\n",
    "text1 = NER(tex)\n",
    "\n",
    "orgs_dict = {}\n",
    "1\n",
    "for word in text1.ents:\n",
    "    if word.label_ == 'ORG':\n",
    "        org_name = word.text\n",
    "        if org_name in orgs_dict:\n",
    "            orgs_dict[org_name] += 1\n",
    "        else:\n",
    "            orgs_dict[org_name] = 1\n",
    "\n",
    "# Display the organizations and their respective counts\n",
    "print(f\"Organizations mentioned in the article:\\n\")\n",
    "for org, count in orgs_dict.items():\n",
    "    print(f\"{org}: {count}\")\n",
    "\n",
    "displacy.render(text1,style=\"ent\",jupyter=True)"
   ]
  },
  {
   "cell_type": "markdown",
   "metadata": {},
   "source": [
    "# FInding Articles explicitly mention Liberation Movement"
   ]
  },
  {
   "cell_type": "code",
   "execution_count": 82,
   "metadata": {},
   "outputs": [
    {
     "name": "stdout",
     "output_type": "stream",
     "text": [
      "total number of articles with matches: 40\n",
      "Index of articles with matches: [16, 21, 22, 71, 86, 93, 99, 108, 128, 132, 137, 152, 158, 170, 190, 199, 203, 220, 226, 244, 261, 276, 277, 280, 292, 295, 315, 318, 341, 342, 344, 345, 346, 347, 358, 363, 370, 376, 379, 457]\n"
     ]
    }
   ],
   "source": [
    "looking_for = ['SPLM', 'SSLM', \"Sudan People's Liberation Movement\"]\n",
    "\n",
    "articles_found = []\n",
    "\n",
    "for index, content in df.iterrows():\n",
    "    text1 = NER(content['summary'])\n",
    "    for word in text1.ents:\n",
    "        if word.label_ == 'ORG':\n",
    "            org_name = word.text\n",
    "            if org_name in looking_for:\n",
    "                articles_found.append(index)\n",
    "                break\n",
    "\n",
    "print(f'total number of articles with matches: {len(articles_found)}')\n",
    "print(f'Index of articles with matches: {articles_found}')"
   ]
  },
  {
   "cell_type": "code",
   "execution_count": 23,
   "metadata": {},
   "outputs": [
    {
     "data": {
      "text/html": [
       "<div>\n",
       "<style scoped>\n",
       "    .dataframe tbody tr th:only-of-type {\n",
       "        vertical-align: middle;\n",
       "    }\n",
       "\n",
       "    .dataframe tbody tr th {\n",
       "        vertical-align: top;\n",
       "    }\n",
       "\n",
       "    .dataframe thead th {\n",
       "        text-align: right;\n",
       "    }\n",
       "</style>\n",
       "<table border=\"1\" class=\"dataframe\">\n",
       "  <thead>\n",
       "    <tr style=\"text-align: right;\">\n",
       "      <th></th>\n",
       "      <th>summary</th>\n",
       "      <th>date</th>\n",
       "      <th>chat_GPT_location</th>\n",
       "      <th>lat</th>\n",
       "      <th>lng</th>\n",
       "      <th>article_id</th>\n",
       "      <th>cd_district_name</th>\n",
       "      <th>hunger_bert</th>\n",
       "      <th>refugees_bert</th>\n",
       "      <th>humanitarian_bert</th>\n",
       "      <th>conflict_bert</th>\n",
       "      <th>Conflict</th>\n",
       "      <th>County level</th>\n",
       "      <th>Unity level</th>\n",
       "      <th>South Sudan / Liberation movement Conflict</th>\n",
       "      <th>Additional Notes</th>\n",
       "    </tr>\n",
       "  </thead>\n",
       "  <tbody>\n",
       "    <tr>\n",
       "      <th>0</th>\n",
       "      <td>The article discusses the readiness of Guit co...</td>\n",
       "      <td>2011-07-07</td>\n",
       "      <td>Bentiu</td>\n",
       "      <td>9.231487</td>\n",
       "      <td>29.800503</td>\n",
       "      <td>88</td>\n",
       "      <td>Rubkona</td>\n",
       "      <td>False</td>\n",
       "      <td>False</td>\n",
       "      <td>False</td>\n",
       "      <td>True</td>\n",
       "      <td>0</td>\n",
       "      <td>no</td>\n",
       "      <td>no</td>\n",
       "      <td>no</td>\n",
       "      <td>This article is about a celebration of South S...</td>\n",
       "    </tr>\n",
       "    <tr>\n",
       "      <th>1</th>\n",
       "      <td>The article discusses the celebration of South...</td>\n",
       "      <td>2011-07-09</td>\n",
       "      <td>Bentiu</td>\n",
       "      <td>9.231487</td>\n",
       "      <td>29.800503</td>\n",
       "      <td>103</td>\n",
       "      <td>Rubkona</td>\n",
       "      <td>False</td>\n",
       "      <td>False</td>\n",
       "      <td>False</td>\n",
       "      <td>True</td>\n",
       "      <td>0</td>\n",
       "      <td>no</td>\n",
       "      <td>no</td>\n",
       "      <td>no</td>\n",
       "      <td>This article is about a celebration of South S...</td>\n",
       "    </tr>\n",
       "    <tr>\n",
       "      <th>2</th>\n",
       "      <td>The article discusses the congratulatory messa...</td>\n",
       "      <td>2011-07-11</td>\n",
       "      <td>Bentiu</td>\n",
       "      <td>9.231487</td>\n",
       "      <td>29.800503</td>\n",
       "      <td>221</td>\n",
       "      <td>Rubkona</td>\n",
       "      <td>False</td>\n",
       "      <td>False</td>\n",
       "      <td>False</td>\n",
       "      <td>True</td>\n",
       "      <td>0</td>\n",
       "      <td>no</td>\n",
       "      <td>no</td>\n",
       "      <td>no</td>\n",
       "      <td>Head of Kenyan Community congratulates South S...</td>\n",
       "    </tr>\n",
       "    <tr>\n",
       "      <th>3</th>\n",
       "      <td>The article discusses the killing of rebel lea...</td>\n",
       "      <td>2011-07-23</td>\n",
       "      <td>Koch county</td>\n",
       "      <td>8.684727</td>\n",
       "      <td>29.881520</td>\n",
       "      <td>299</td>\n",
       "      <td>Koch</td>\n",
       "      <td>True</td>\n",
       "      <td>True</td>\n",
       "      <td>True</td>\n",
       "      <td>True</td>\n",
       "      <td>2</td>\n",
       "      <td>yes</td>\n",
       "      <td>no</td>\n",
       "      <td>yes</td>\n",
       "      <td>Rebel leader Gatluak killed in Koch county, be...</td>\n",
       "    </tr>\n",
       "    <tr>\n",
       "      <th>4</th>\n",
       "      <td>The article discusses the killing of South Sud...</td>\n",
       "      <td>2011-07-23</td>\n",
       "      <td>Unity state</td>\n",
       "      <td>8.927721</td>\n",
       "      <td>29.788925</td>\n",
       "      <td>327</td>\n",
       "      <td>Koch</td>\n",
       "      <td>True</td>\n",
       "      <td>True</td>\n",
       "      <td>True</td>\n",
       "      <td>True</td>\n",
       "      <td>2</td>\n",
       "      <td>yes</td>\n",
       "      <td>no</td>\n",
       "      <td>yes</td>\n",
       "      <td>Rebel leader Gatluak killed in Koch county, be...</td>\n",
       "    </tr>\n",
       "    <tr>\n",
       "      <th>...</th>\n",
       "      <td>...</td>\n",
       "      <td>...</td>\n",
       "      <td>...</td>\n",
       "      <td>...</td>\n",
       "      <td>...</td>\n",
       "      <td>...</td>\n",
       "      <td>...</td>\n",
       "      <td>...</td>\n",
       "      <td>...</td>\n",
       "      <td>...</td>\n",
       "      <td>...</td>\n",
       "      <td>...</td>\n",
       "      <td>...</td>\n",
       "      <td>...</td>\n",
       "      <td>...</td>\n",
       "      <td>...</td>\n",
       "    </tr>\n",
       "    <tr>\n",
       "      <th>454</th>\n",
       "      <td>The article discusses how the UK government ha...</td>\n",
       "      <td>2022-12-09</td>\n",
       "      <td>Koch County</td>\n",
       "      <td>8.684727</td>\n",
       "      <td>29.881520</td>\n",
       "      <td>18396</td>\n",
       "      <td>Koch</td>\n",
       "      <td>True</td>\n",
       "      <td>True</td>\n",
       "      <td>True</td>\n",
       "      <td>True</td>\n",
       "      <td>0</td>\n",
       "      <td>no</td>\n",
       "      <td>no</td>\n",
       "      <td>no</td>\n",
       "      <td>UK imposed sanctions on two county commissione...</td>\n",
       "    </tr>\n",
       "    <tr>\n",
       "      <th>455</th>\n",
       "      <td>The article discusses how the humanitarian pri...</td>\n",
       "      <td>2022-08-22</td>\n",
       "      <td>Unity State</td>\n",
       "      <td>8.927721</td>\n",
       "      <td>29.788925</td>\n",
       "      <td>18398</td>\n",
       "      <td>Koch</td>\n",
       "      <td>True</td>\n",
       "      <td>True</td>\n",
       "      <td>True</td>\n",
       "      <td>True</td>\n",
       "      <td>0</td>\n",
       "      <td>no</td>\n",
       "      <td>no</td>\n",
       "      <td>yes</td>\n",
       "      <td>Aid is frequently manipulated by political elites</td>\n",
       "    </tr>\n",
       "    <tr>\n",
       "      <th>456</th>\n",
       "      <td>The article discusses the intensification of a...</td>\n",
       "      <td>2022-09-26</td>\n",
       "      <td>Unity State</td>\n",
       "      <td>8.927721</td>\n",
       "      <td>29.788925</td>\n",
       "      <td>18427</td>\n",
       "      <td>Koch</td>\n",
       "      <td>False</td>\n",
       "      <td>False</td>\n",
       "      <td>False</td>\n",
       "      <td>True</td>\n",
       "      <td>2</td>\n",
       "      <td>no</td>\n",
       "      <td>yes</td>\n",
       "      <td>yes</td>\n",
       "      <td>Fighting between civilians</td>\n",
       "    </tr>\n",
       "    <tr>\n",
       "      <th>457</th>\n",
       "      <td>The article discusses a UN report documenting ...</td>\n",
       "      <td>2022-09-06</td>\n",
       "      <td>Unity state</td>\n",
       "      <td>8.927721</td>\n",
       "      <td>29.788925</td>\n",
       "      <td>18439</td>\n",
       "      <td>Koch</td>\n",
       "      <td>True</td>\n",
       "      <td>True</td>\n",
       "      <td>True</td>\n",
       "      <td>True</td>\n",
       "      <td>1</td>\n",
       "      <td>no</td>\n",
       "      <td>yes</td>\n",
       "      <td>yes</td>\n",
       "      <td>Widespread human rights violations</td>\n",
       "    </tr>\n",
       "    <tr>\n",
       "      <th>458</th>\n",
       "      <td>The article discusses a UN report on the perva...</td>\n",
       "      <td>2023-04-03</td>\n",
       "      <td>Unity State</td>\n",
       "      <td>8.927721</td>\n",
       "      <td>29.788925</td>\n",
       "      <td>18450</td>\n",
       "      <td>Koch</td>\n",
       "      <td>True</td>\n",
       "      <td>True</td>\n",
       "      <td>True</td>\n",
       "      <td>True</td>\n",
       "      <td>1</td>\n",
       "      <td>no</td>\n",
       "      <td>yes</td>\n",
       "      <td>yes</td>\n",
       "      <td>Report on widespread human rights violations</td>\n",
       "    </tr>\n",
       "  </tbody>\n",
       "</table>\n",
       "<p>459 rows × 16 columns</p>\n",
       "</div>"
      ],
      "text/plain": [
       "                                               summary       date  \\\n",
       "0    The article discusses the readiness of Guit co... 2011-07-07   \n",
       "1    The article discusses the celebration of South... 2011-07-09   \n",
       "2    The article discusses the congratulatory messa... 2011-07-11   \n",
       "3    The article discusses the killing of rebel lea... 2011-07-23   \n",
       "4    The article discusses the killing of South Sud... 2011-07-23   \n",
       "..                                                 ...        ...   \n",
       "454  The article discusses how the UK government ha... 2022-12-09   \n",
       "455  The article discusses how the humanitarian pri... 2022-08-22   \n",
       "456  The article discusses the intensification of a... 2022-09-26   \n",
       "457  The article discusses a UN report documenting ... 2022-09-06   \n",
       "458  The article discusses a UN report on the perva... 2023-04-03   \n",
       "\n",
       "    chat_GPT_location       lat        lng  article_id cd_district_name  \\\n",
       "0              Bentiu  9.231487  29.800503          88          Rubkona   \n",
       "1              Bentiu  9.231487  29.800503         103          Rubkona   \n",
       "2              Bentiu  9.231487  29.800503         221          Rubkona   \n",
       "3         Koch county  8.684727  29.881520         299             Koch   \n",
       "4         Unity state  8.927721  29.788925         327             Koch   \n",
       "..                ...       ...        ...         ...              ...   \n",
       "454       Koch County  8.684727  29.881520       18396             Koch   \n",
       "455       Unity State  8.927721  29.788925       18398             Koch   \n",
       "456       Unity State  8.927721  29.788925       18427             Koch   \n",
       "457       Unity state  8.927721  29.788925       18439             Koch   \n",
       "458       Unity State  8.927721  29.788925       18450             Koch   \n",
       "\n",
       "     hunger_bert  refugees_bert  humanitarian_bert  conflict_bert  Conflict  \\\n",
       "0          False          False              False           True         0   \n",
       "1          False          False              False           True         0   \n",
       "2          False          False              False           True         0   \n",
       "3           True           True               True           True         2   \n",
       "4           True           True               True           True         2   \n",
       "..           ...            ...                ...            ...       ...   \n",
       "454         True           True               True           True         0   \n",
       "455         True           True               True           True         0   \n",
       "456        False          False              False           True         2   \n",
       "457         True           True               True           True         1   \n",
       "458         True           True               True           True         1   \n",
       "\n",
       "    County level Unity level South Sudan / Liberation movement Conflict  \\\n",
       "0             no          no                                         no   \n",
       "1             no          no                                         no   \n",
       "2             no          no                                         no   \n",
       "3            yes          no                                        yes   \n",
       "4            yes          no                                        yes   \n",
       "..           ...         ...                                        ...   \n",
       "454           no          no                                         no   \n",
       "455           no          no                                        yes   \n",
       "456           no         yes                                        yes   \n",
       "457           no         yes                                        yes   \n",
       "458           no         yes                                        yes   \n",
       "\n",
       "                                      Additional Notes  \n",
       "0    This article is about a celebration of South S...  \n",
       "1    This article is about a celebration of South S...  \n",
       "2    Head of Kenyan Community congratulates South S...  \n",
       "3    Rebel leader Gatluak killed in Koch county, be...  \n",
       "4    Rebel leader Gatluak killed in Koch county, be...  \n",
       "..                                                 ...  \n",
       "454  UK imposed sanctions on two county commissione...  \n",
       "455  Aid is frequently manipulated by political elites  \n",
       "456                         Fighting between civilians  \n",
       "457                 Widespread human rights violations  \n",
       "458       Report on widespread human rights violations  \n",
       "\n",
       "[459 rows x 16 columns]"
      ]
     },
     "execution_count": 23,
     "metadata": {},
     "output_type": "execute_result"
    }
   ],
   "source": [
    "df = pd.read_csv('data/article_handlabeled_v2_raw.csv')\n",
    "df2 = pd.read_csv('data/articles_topics_conflict_cleaned.csv', parse_dates=['date'])\n",
    "\n",
    "merged_df = df2.merge(df, left_index=True, right_on='Article index')\n",
    "merged_df = merged_df.drop(['Article index', 'Location correct'], axis=1).rename({'keep location':'County level','hunger':'hunger_bert','refugees':'refugees_bert','humanitarian':'humanitarian_bert','conflict':'conflict_bert' }, axis=1)\n",
    "merged_df"
   ]
  },
  {
   "cell_type": "markdown",
   "metadata": {},
   "source": [
    "# Adding hand labeled info back into dataset"
   ]
  },
  {
   "cell_type": "code",
   "execution_count": 10,
   "metadata": {},
   "outputs": [],
   "source": [
    "df = pd.read_csv('data/handlabeled_articles_results.csv')\n",
    "df2 = pd.read_csv('data/articles_topics_conflict_cleaned.csv', parse_dates=['date'])\n",
    "merged_df = df2.merge(df, left_index=True, right_on='Article index')\n",
    "merged_df = merged_df.drop(['Article index', 'Location correct'], axis=1).rename({'keep location':'County level','hunger':'hunger_bert','refugees':'refugees_bert','humanitarian':'humanitarian_bert','conflict':'conflict_bert' }, axis=1)\n",
    "merged_df = merged_df[(merged_df['County level'] == 'yes') | (merged_df['Unity level'] == 'yes')] # gets rid of any mislocated articles\n",
    "\n",
    "\n",
    "merged_df['location_final'] = merged_df.apply(lambda row: row['cd_district_name'] if row['County level']=='yes' else 'Unity state', axis=1)\n",
    "\n",
    "merged_df['location_final'].unique()\n",
    "\n",
    "\n",
    "merged_df.to_csv('data/articles_handlabeled_v2_cleaned.csv', index=False)\n",
    "\n",
    "\n"
   ]
  },
  {
   "cell_type": "code",
   "execution_count": 9,
   "metadata": {},
   "outputs": [
    {
     "data": {
      "text/plain": [
       "Rubkona        156\n",
       "Unity state    131\n",
       "Koch            18\n",
       "Name: location_final, dtype: int64"
      ]
     },
     "metadata": {},
     "output_type": "display_data"
    },
    {
     "data": {
      "text/plain": [
       "2    174\n",
       "1    115\n",
       "0     16\n",
       "Name: Conflict, dtype: int64"
      ]
     },
     "metadata": {},
     "output_type": "display_data"
    },
    {
     "data": {
      "text/plain": [
       "Rubkona        154\n",
       "Unity state    117\n",
       "Koch            18\n",
       "Name: location_final, dtype: int64"
      ]
     },
     "metadata": {},
     "output_type": "display_data"
    },
    {
     "data": {
      "text/plain": [
       "2    174\n",
       "1    115\n",
       "Name: Conflict, dtype: int64"
      ]
     },
     "metadata": {},
     "output_type": "display_data"
    },
    {
     "data": {
      "text/plain": [
       "yes    195\n",
       "no      94\n",
       "Name: South Sudan / Liberation movement Conflict, dtype: int64"
      ]
     },
     "metadata": {},
     "output_type": "display_data"
    }
   ],
   "source": [
    "# Count the occurrences of each unique value in 'location_final'\n",
    "location_counts = merged_df['location_final'].value_counts()\n",
    "\n",
    "display(location_counts)\n",
    "\n",
    "violence_counts = merged_df['Conflict'].value_counts()\n",
    "\n",
    "display(violence_counts)\n",
    "\n",
    "conflict_df = merged_df[merged_df['Conflict'] > 0]\n",
    "\n",
    "location_counts = conflict_df['location_final'].value_counts()\n",
    "\n",
    "display(location_counts)\n",
    "\n",
    "violence_counts = conflict_df['Conflict'].value_counts()\n",
    "\n",
    "display(violence_counts)\n",
    "\n",
    "mov_SS_counts = conflict_df['South Sudan / Liberation movement Conflict'].value_counts()\n",
    "\n",
    "display(mov_SS_counts)"
   ]
  },
  {
   "cell_type": "code",
   "execution_count": 41,
   "metadata": {},
   "outputs": [],
   "source": [
    "merged_df.to_csv('data/articles_raw_with_handlabels.csv', index=False)"
   ]
  },
  {
   "cell_type": "markdown",
   "metadata": {},
   "source": [
    "# Exploring hand labeled data"
   ]
  },
  {
   "cell_type": "code",
   "execution_count": 1,
   "metadata": {},
   "outputs": [],
   "source": [
    "import pandas as pd\n",
    "import plotly.express as px\n",
    "import matplotlib.pyplot as plt"
   ]
  },
  {
   "cell_type": "code",
   "execution_count": 4,
   "metadata": {},
   "outputs": [],
   "source": [
    "df = pd.read_csv('data/articles_handlabeled_v2_cleaned.csv', parse_dates=['date'])\n",
    "df_conflict = df[df['Conflict'] > 0]"
   ]
  },
  {
   "cell_type": "code",
   "execution_count": 5,
   "metadata": {},
   "outputs": [
    {
     "data": {
      "text/plain": [
       "Timestamp('2020-02-01 00:00:00')"
      ]
     },
     "execution_count": 5,
     "metadata": {},
     "output_type": "execute_result"
    }
   ],
   "source": [
    "ipc_scores_df = pd.read_csv('data/food_crises_cleaned.csv', parse_dates=['date'])\n",
    "# ipc_scores_df.dropna(subset=['ipc'], inplace=True)\n",
    "\n",
    "ipc_scores_df = ipc_scores_df[ipc_scores_df.district == 'Rubkona']\n",
    "\n",
    "max(ipc_scores_df['date'])"
   ]
  },
  {
   "cell_type": "code",
   "execution_count": 6,
   "metadata": {},
   "outputs": [
    {
     "data": {
      "image/png": "[encoded data removed]",
      "text/plain": [
       "<Figure size 1200x600 with 1 Axes>"
      ]
     },
     "metadata": {},
     "output_type": "display_data"
    }
   ],
   "source": [
    "plt.figure(figsize=(12, 6))  # Adjust the figure size as needed\n",
    "\n",
    "plt.plot(ipc_scores_df['date'], ipc_scores_df['ipc'], marker='o', linestyle='-', color='b', label='IPC Score')\n",
    "\n",
    "plt.title('IPC Scores Over Time')\n",
    "plt.xlabel('Date')\n",
    "plt.ylabel('IPC Score')\n",
    "\n",
    "plt.grid(True)\n",
    "plt.legend()\n",
    "plt.tight_layout()\n",
    "\n",
    "plt.show()\n"
   ]
  },
  {
   "cell_type": "code",
   "execution_count": 7,
   "metadata": {},
   "outputs": [
    {
     "name": "stderr",
     "output_type": "stream",
     "text": [
      "C:\\Users\\pthie\\AppData\\Local\\Temp\\ipykernel_16180\\845498642.py:3: SettingWithCopyWarning: \n",
      "A value is trying to be set on a copy of a slice from a DataFrame.\n",
      "Try using .loc[row_indexer,col_indexer] = value instead\n",
      "\n",
      "See the caveats in the documentation: https://pandas.pydata.org/pandas-docs/stable/user_guide/indexing.html#returning-a-view-versus-a-copy\n",
      "  df_conflict['date'] = pd.to_datetime(df_conflict['date'])\n"
     ]
    },
    {
     "data": {
      "image/png": "[encoded data removed]",
      "text/plain": [
       "<Figure size 1200x600 with 1 Axes>"
      ]
     },
     "metadata": {},
     "output_type": "display_data"
    }
   ],
   "source": [
    "# Assuming you have a DataFrame named df with the columns you mentioned\n",
    "# Convert the 'date' column to a datetime object if it's not already\n",
    "df_conflict['date'] = pd.to_datetime(df_conflict['date'])\n",
    "\n",
    "# Group the DataFrame by month and count the number of articles for each month\n",
    "articles_per_month = df_conflict.groupby(df_conflict['date'].dt.to_period('M'))['article_id'].count()\n",
    "\n",
    "# Create a bar plot to visualize the total number of articles per month\n",
    "plt.figure(figsize=(12, 6))  # You can adjust the figure size as needed\n",
    "articles_per_month.plot(kind='bar')\n",
    "plt.title('Total Number of Articles per Month')\n",
    "plt.xlabel('Month')\n",
    "plt.ylabel('Total Number of Articles')\n",
    "plt.grid(axis='y')\n",
    "\n",
    "# Show the plot\n",
    "plt.tight_layout()\n",
    "plt.show()"
   ]
  },
  {
   "cell_type": "markdown",
   "metadata": {},
   "source": [
    "## example for NER"
   ]
  },
  {
   "cell_type": "code",
   "execution_count": 26,
   "metadata": {},
   "outputs": [
    {
     "name": "stdout",
     "output_type": "stream",
     "text": [
      "Organizations mentioned in the article:\n",
      "\n",
      "the South Sudan Human Rights Society: 1\n",
      "SSHURSA: 2\n",
      "the South Sudan National Legislative Assembly: 1\n",
      "Justice: 1\n"
     ]
    }
   ],
   "source": [
    "orgs_dict = {}\n",
    "\n",
    "for word in text1.ents:\n",
    "    if word.label_ == 'ORG':\n",
    "        org_name = word.text\n",
    "        if org_name in orgs_dict:\n",
    "            orgs_dict[org_name] += 1\n",
    "        else:\n",
    "            orgs_dict[org_name] = 1\n",
    "\n",
    "# Display the organizations and their respective counts\n",
    "print(f\"Organizations mentioned in the article:\\n\")\n",
    "for org, count in orgs_dict.items():\n",
    "    print(f\"{org}: {count}\")\n"
   ]
  },
  {
   "cell_type": "code",
   "execution_count": 28,
   "metadata": {},
   "outputs": [
    {
     "data": {
      "text/plain": [
       "\"Orgs mentioned in article: {'Justice', 'SSHURSA', 'the South Sudan Human Rights Society', 'the South Sudan National Legislative Assembly'}\""
      ]
     },
     "metadata": {},
     "output_type": "display_data"
    }
   ],
   "source": [
    "orgs = set()\n",
    "\n",
    "for word in text1.ents:\n",
    "    if word.label_ == 'ORG':\n",
    "        orgs.add(word.text)\n",
    "\n",
    "display(f'Orgs mentioned in article: {orgs}')"
   ]
  },
  {
   "cell_type": "code",
   "execution_count": 183,
   "metadata": {},
   "outputs": [
    {
     "data": {
      "text/plain": [
       "'Companies, agencies, institutions, etc.'"
      ]
     },
     "metadata": {},
     "output_type": "display_data"
    },
    {
     "data": {
      "text/plain": [
       "'Countries, cities, states'"
      ]
     },
     "metadata": {},
     "output_type": "display_data"
    },
    {
     "data": {
      "text/plain": [
       "'Non-GPE locations, mountain ranges, bodies of water'"
      ]
     },
     "metadata": {},
     "output_type": "display_data"
    },
    {
     "data": {
      "text/html": [
       "<span class=\"tex2jax_ignore\"><div class=\"entities\" style=\"line-height: 2.5; direction: ltr\">The article discusses the capture of \n",
       "<mark class=\"entity\" style=\"background: #feca74; padding: 0.45em 0.6em; margin: 0 0.25em; line-height: 1; border-radius: 0.35em;\">\n",
       "    Bentiu\n",
       "    <span style=\"font-size: 0.8em; font-weight: bold; line-height: 1; border-radius: 0.35em; vertical-align: middle; margin-left: 0.5rem\">GPE</span>\n",
       "</mark>\n",
       " town in \n",
       "<mark class=\"entity\" style=\"background: #ff9561; padding: 0.45em 0.6em; margin: 0 0.25em; line-height: 1; border-radius: 0.35em;\">\n",
       "    Unity State\n",
       "    <span style=\"font-size: 0.8em; font-weight: bold; line-height: 1; border-radius: 0.35em; vertical-align: middle; margin-left: 0.5rem\">LOC</span>\n",
       "</mark>\n",
       " of \n",
       "<mark class=\"entity\" style=\"background: #feca74; padding: 0.45em 0.6em; margin: 0 0.25em; line-height: 1; border-radius: 0.35em;\">\n",
       "    South Sudan\n",
       "    <span style=\"font-size: 0.8em; font-weight: bold; line-height: 1; border-radius: 0.35em; vertical-align: middle; margin-left: 0.5rem\">GPE</span>\n",
       "</mark>\n",
       " by \n",
       "<mark class=\"entity\" style=\"background: #7aecec; padding: 0.45em 0.6em; margin: 0 0.25em; line-height: 1; border-radius: 0.35em;\">\n",
       "    rebel\n",
       "    <span style=\"font-size: 0.8em; font-weight: bold; line-height: 1; border-radius: 0.35em; vertical-align: middle; margin-left: 0.5rem\">ORG</span>\n",
       "</mark>\n",
       " forces, resulting in forced disappearances and mass killings of civilians. Several sources report incidents of killings at a mosque, churches, and hospital, with an estimated death toll ranging from \n",
       "<mark class=\"entity\" style=\"background: #e4e7d2; padding: 0.45em 0.6em; margin: 0 0.25em; line-height: 1; border-radius: 0.35em;\">\n",
       "    hundreds\n",
       "    <span style=\"font-size: 0.8em; font-weight: bold; line-height: 1; border-radius: 0.35em; vertical-align: middle; margin-left: 0.5rem\">CARDINAL</span>\n",
       "</mark>\n",
       " to \n",
       "<mark class=\"entity\" style=\"background: #e4e7d2; padding: 0.45em 0.6em; margin: 0 0.25em; line-height: 1; border-radius: 0.35em;\">\n",
       "    more than 370\n",
       "    <span style=\"font-size: 0.8em; font-weight: bold; line-height: 1; border-radius: 0.35em; vertical-align: middle; margin-left: 0.5rem\">CARDINAL</span>\n",
       "</mark>\n",
       " people. \n",
       "<mark class=\"entity\" style=\"background: #7aecec; padding: 0.45em 0.6em; margin: 0 0.25em; line-height: 1; border-radius: 0.35em;\">\n",
       "    Darfurian traders\n",
       "    <span style=\"font-size: 0.8em; font-weight: bold; line-height: 1; border-radius: 0.35em; vertical-align: middle; margin-left: 0.5rem\">ORG</span>\n",
       "</mark>\n",
       " were among the victims, and there are reports of survivors being forcibly removed from hospitals by the parties to the conflict. \n",
       "<mark class=\"entity\" style=\"background: #7aecec; padding: 0.45em 0.6em; margin: 0 0.25em; line-height: 1; border-radius: 0.35em;\">\n",
       "    UNMISS\n",
       "    <span style=\"font-size: 0.8em; font-weight: bold; line-height: 1; border-radius: 0.35em; vertical-align: middle; margin-left: 0.5rem\">ORG</span>\n",
       "</mark>\n",
       " is protecting \n",
       "<mark class=\"entity\" style=\"background: #e4e7d2; padding: 0.45em 0.6em; margin: 0 0.25em; line-height: 1; border-radius: 0.35em;\">\n",
       "    over 12,000\n",
       "    <span style=\"font-size: 0.8em; font-weight: bold; line-height: 1; border-radius: 0.35em; vertical-align: middle; margin-left: 0.5rem\">CARDINAL</span>\n",
       "</mark>\n",
       " civilians in their base, and aid organizations are deeply concerned about the situation. </div></span>"
      ],
      "text/plain": [
       "<IPython.core.display.HTML object>"
      ]
     },
     "metadata": {},
     "output_type": "display_data"
    }
   ],
   "source": [
    "# source: https://www.analyticsvidhya.com/blog/2021/06/nlp-application-named-entity-recognition-ner-in-python-with-spacy/\n",
    "display(spacy.explain(\"ORG\"))\n",
    "display(spacy.explain(\"GPE\"))\n",
    "display(spacy.explain(\"LOC\"))\n",
    "displacy.render(text1,style=\"ent\",jupyter=True)"
   ]
  }
 ],
 "metadata": {
  "kernelspec": {
   "display_name": "base",
   "language": "python",
   "name": "python3"
  },
  "language_info": {
   "codemirror_mode": {
    "name": "ipython",
    "version": 3
   },
   "file_extension": ".py",
   "mimetype": "text/x-python",
   "name": "python",
   "nbconvert_exporter": "python",
   "pygments_lexer": "ipython3",
   "version": "3.11.4"
  },
  "orig_nbformat": 4
 },
 "nbformat": 4,
 "nbformat_minor": 2
}

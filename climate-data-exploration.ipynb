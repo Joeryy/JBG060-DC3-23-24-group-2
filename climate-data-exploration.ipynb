{
 "cells": [
  {
   "cell_type": "code",
   "execution_count": 1,
   "metadata": {
    "collapsed": true,
    "ExecuteTime": {
     "end_time": "2023-09-22T10:01:36.713183400Z",
     "start_time": "2023-09-22T10:01:36.484371800Z"
    }
   },
   "outputs": [],
   "source": [
    "import pandas as pd\n",
    "import numpy as np\n"
   ]
  },
  {
   "cell_type": "code",
   "execution_count": 6,
   "outputs": [
    {
     "data": {
      "text/plain": "  Country Name Country ISO3  Year              Indicator Name  Indicator Code  \\\n0  South Sudan          SSD  2020  Agricultural land (sq. km)  AG.LND.AGRI.K2   \n1  South Sudan          SSD  2019  Agricultural land (sq. km)  AG.LND.AGRI.K2   \n2  South Sudan          SSD  2018  Agricultural land (sq. km)  AG.LND.AGRI.K2   \n3  South Sudan          SSD  2017  Agricultural land (sq. km)  AG.LND.AGRI.K2   \n4  South Sudan          SSD  2016  Agricultural land (sq. km)  AG.LND.AGRI.K2   \n\n        Value  \n0  282510.000  \n1  282510.000  \n2  282510.000  \n3  283214.750  \n4  283567.625  ",
      "text/html": "<div>\n<style scoped>\n    .dataframe tbody tr th:only-of-type {\n        vertical-align: middle;\n    }\n\n    .dataframe tbody tr th {\n        vertical-align: top;\n    }\n\n    .dataframe thead th {\n        text-align: right;\n    }\n</style>\n<table border=\"1\" class=\"dataframe\">\n  <thead>\n    <tr style=\"text-align: right;\">\n      <th></th>\n      <th>Country Name</th>\n      <th>Country ISO3</th>\n      <th>Year</th>\n      <th>Indicator Name</th>\n      <th>Indicator Code</th>\n      <th>Value</th>\n    </tr>\n  </thead>\n  <tbody>\n    <tr>\n      <th>0</th>\n      <td>South Sudan</td>\n      <td>SSD</td>\n      <td>2020</td>\n      <td>Agricultural land (sq. km)</td>\n      <td>AG.LND.AGRI.K2</td>\n      <td>282510.000</td>\n    </tr>\n    <tr>\n      <th>1</th>\n      <td>South Sudan</td>\n      <td>SSD</td>\n      <td>2019</td>\n      <td>Agricultural land (sq. km)</td>\n      <td>AG.LND.AGRI.K2</td>\n      <td>282510.000</td>\n    </tr>\n    <tr>\n      <th>2</th>\n      <td>South Sudan</td>\n      <td>SSD</td>\n      <td>2018</td>\n      <td>Agricultural land (sq. km)</td>\n      <td>AG.LND.AGRI.K2</td>\n      <td>282510.000</td>\n    </tr>\n    <tr>\n      <th>3</th>\n      <td>South Sudan</td>\n      <td>SSD</td>\n      <td>2017</td>\n      <td>Agricultural land (sq. km)</td>\n      <td>AG.LND.AGRI.K2</td>\n      <td>283214.750</td>\n    </tr>\n    <tr>\n      <th>4</th>\n      <td>South Sudan</td>\n      <td>SSD</td>\n      <td>2016</td>\n      <td>Agricultural land (sq. km)</td>\n      <td>AG.LND.AGRI.K2</td>\n      <td>283567.625</td>\n    </tr>\n  </tbody>\n</table>\n</div>"
     },
     "execution_count": 6,
     "metadata": {},
     "output_type": "execute_result"
    }
   ],
   "source": [
    "df = pd.read_csv(\"data/climate-change_ssd.csv\")\n",
    "df.head()"
   ],
   "metadata": {
    "collapsed": false,
    "ExecuteTime": {
     "end_time": "2023-09-22T10:05:13.988235800Z",
     "start_time": "2023-09-22T10:05:13.973225600Z"
    }
   }
  },
  {
   "cell_type": "code",
   "execution_count": 9,
   "outputs": [
    {
     "data": {
      "text/plain": "{'Access to electricity (% of population)',\n 'Agricultural land (% of land area)',\n 'Agricultural land (sq. km)',\n 'Agriculture, forestry, and fishing, value added (% of GDP)',\n 'Annual freshwater withdrawals, total (% of internal resources)',\n 'Annual freshwater withdrawals, total (billion cubic meters)',\n 'Arable land (% of land area)',\n 'Average precipitation in depth (mm per year)',\n 'CO2 emissions (kg per 2015 US$ of GDP)',\n 'CO2 emissions (kg per PPP $ of GDP)',\n 'CO2 emissions (kt)',\n 'CO2 emissions (metric tons per capita)',\n 'CO2 emissions from gaseous fuel consumption (% of total)',\n 'CO2 emissions from gaseous fuel consumption (kt)',\n 'CO2 emissions from liquid fuel consumption (% of total)',\n 'CO2 emissions from liquid fuel consumption (kt)',\n 'CO2 emissions from solid fuel consumption (% of total)',\n 'CO2 emissions from solid fuel consumption (kt)',\n 'CO2 intensity (kg per kg of oil equivalent energy use)',\n 'CPIA public sector management and institutions cluster average (1=low to 6=high)',\n 'Cereal yield (kg per hectare)',\n 'Ease of doing business rank (1=most business-friendly regulations)',\n 'Foreign direct investment, net inflows (% of GDP)',\n 'Forest area (% of land area)',\n 'Forest area (sq. km)',\n 'Land area where elevation is below 5 meters (% of total land area)',\n 'Methane emissions (kt of CO2 equivalent)',\n 'Mortality rate, under-5 (per 1,000 live births)',\n 'Nitrous oxide emissions (thousand metric tons of CO2 equivalent)',\n 'Population growth (annual %)',\n 'Population living in areas where elevation is below 5 meters (% of total population)',\n 'Population, total',\n 'Poverty headcount ratio at $2.15 a day (2017 PPP) (% of population)',\n 'Prevalence of underweight, weight for age (% of children under 5)',\n 'Primary completion rate, total (% of relevant age group)',\n 'Renewable energy consumption (% of total final energy consumption)',\n 'Rural land area where elevation is below 5 meters (% of total land area)',\n 'Rural land area where elevation is below 5 meters (sq. km)',\n 'Rural population living in areas where elevation is below 5 meters (% of total population)',\n 'School enrollment, primary and secondary (gross), gender parity index (GPI)',\n 'Terrestrial and marine protected areas (% of total territorial area)',\n 'Terrestrial protected areas (% of total land area)',\n 'Total greenhouse gas emissions (kt of CO2 equivalent)',\n 'Urban land area where elevation is below 5 meters (% of total land area)',\n 'Urban land area where elevation is below 5 meters (sq. km)',\n 'Urban population',\n 'Urban population (% of total population)',\n 'Urban population growth (annual %)',\n 'Urban population living in areas where elevation is below 5 meters (% of total population)'}"
     },
     "execution_count": 9,
     "metadata": {},
     "output_type": "execute_result"
    }
   ],
   "source": [
    "# Set of indicators in the dataset\n",
    "set(df[\"Indicator Name\"])"
   ],
   "metadata": {
    "collapsed": false,
    "ExecuteTime": {
     "end_time": "2023-09-22T10:08:03.566287600Z",
     "start_time": "2023-09-22T10:08:03.559746300Z"
    }
   }
  },
  {
   "cell_type": "code",
   "execution_count": null,
   "outputs": [],
   "source": [],
   "metadata": {
    "collapsed": false
   }
  }
 ],
 "metadata": {
  "kernelspec": {
   "display_name": "Python 3",
   "language": "python",
   "name": "python3"
  },
  "language_info": {
   "codemirror_mode": {
    "name": "ipython",
    "version": 2
   },
   "file_extension": ".py",
   "mimetype": "text/x-python",
   "name": "python",
   "nbconvert_exporter": "python",
   "pygments_lexer": "ipython2",
   "version": "2.7.6"
  }
 },
 "nbformat": 4,
 "nbformat_minor": 0
}
